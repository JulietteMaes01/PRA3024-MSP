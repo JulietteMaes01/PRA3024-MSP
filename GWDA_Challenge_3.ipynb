{
  "nbformat": 4,
  "nbformat_minor": 0,
  "metadata": {
    "colab": {
      "name": "GWDA - Challenge 3.ipynb",
      "provenance": [],
      "collapsed_sections": []
    },
    "kernelspec": {
      "name": "python3",
      "display_name": "Python 3"
    },
    "language_info": {
      "name": "python"
    }
  },
  "cells": [
    {
      "cell_type": "code",
      "execution_count": 2,
      "metadata": {
        "colab": {
          "base_uri": "https://localhost:8080/"
        },
        "id": "-psRI6TFFpSh",
        "outputId": "964bf5a7-09f8-434a-8bf2-e422e0b9a74c"
      },
      "outputs": [
        {
          "output_type": "stream",
          "name": "stdout",
          "text": [
            "0.5.4\n"
          ]
        }
      ],
      "source": [
        "# Install Software and check its version\n",
        "! pip install -q 'gwosc==0.5.4'\n",
        "import gwosc\n",
        "print(gwosc.__version__)\n",
        "\n",
        "# #Uncomment this section to install everything once \n",
        "\n",
        "# ! pip install -q 'lalsuite==6.82' 'PyCBC==1.18.0' 'gwpy==2.0.2'\n",
        "# ! pip install matplotlib==3.1.3\n",
        "# # -- Click \"restart runtime\" in the runtime menu after recommenting all this"
      ]
    },
    {
      "cell_type": "code",
      "source": [
        " # Import all needed librairies and methods\n",
        "import numpy as np\n",
        "import matplotlib.pyplot as plt\n",
        "%matplotlib inline\n",
        "import pylab\n",
        "\n",
        "import pycbc.types \n",
        "from pycbc.types import TimeSeries\n",
        "\n",
        "import pycbc.noise\n",
        "\n",
        "import pycbc.psd\n",
        "from pycbc.psd import interpolate, inverse_spectrum_truncation\n",
        "\n",
        "import pycbc.filter\n",
        "from pycbc.filter import resample_to_delta_t, highpass, matched_filter\n",
        "\n",
        "import pycbc.waveform\n",
        "from pycbc.waveform import get_td_waveform"
      ],
      "metadata": {
        "id": "0ePRfbFI_UHY"
      },
      "execution_count": 3,
      "outputs": []
    },
    {
      "cell_type": "code",
      "source": [
        "### Loading Data ###\n",
        "#--> from google doc sheet of assignment\n",
        "\n",
        "# -- download data\n",
        "! wget https://www.gw-openscience.org/s/workshop3/challenge/challenge3.gwf\n",
        "\n",
        "# -- for gwpy \n",
        "from gwpy.timeseries import TimeSeries\n",
        "gwpy_strain = TimeSeries.read('challenge3.gwf', channel=\"H1:CHALLENGE3\")\n",
        "\n",
        "# -- for pycbc\n",
        "from pycbc import frame\n",
        "pycbc_strain = frame.read_frame('challenge3.gwf', 'H1:CHALLENGE3')\n",
        "\n"
      ],
      "metadata": {
        "id": "3WMO0El7HK7S",
        "colab": {
          "base_uri": "https://localhost:8080/"
        },
        "outputId": "0eeb7c95-1b2b-47c7-d54a-43ae015bde01"
      },
      "execution_count": 4,
      "outputs": [
        {
          "output_type": "stream",
          "name": "stdout",
          "text": [
            "--2022-02-14 13:31:58--  https://www.gw-openscience.org/s/workshop3/challenge/challenge3.gwf\n",
            "Resolving www.gw-openscience.org (www.gw-openscience.org)... 131.215.113.73\n",
            "Connecting to www.gw-openscience.org (www.gw-openscience.org)|131.215.113.73|:443... connected.\n",
            "HTTP request sent, awaiting response... 200 OK\n",
            "Length: 256815066 (245M)\n",
            "Saving to: ‘challenge3.gwf’\n",
            "\n",
            "challenge3.gwf      100%[===================>] 244.92M  15.6MB/s    in 16s     \n",
            "\n",
            "2022-02-14 13:32:14 (15.6 MB/s) - ‘challenge3.gwf’ saved [256815066/256815066]\n",
            "\n"
          ]
        }
      ]
    },
    {
      "cell_type": "code",
      "source": [
        "#solar masses for this exercise\n",
        "m = 10\n",
        "\n",
        "#approximant\n",
        "apx = 'SEOBNRv4_opt'"
      ],
      "metadata": {
        "id": "k6k8Dnn82vdL"
      },
      "execution_count": 5,
      "outputs": []
    },
    {
      "cell_type": "markdown",
      "source": [
        "1) What is the merger time of this signal?"
      ],
      "metadata": {
        "id": "ZDPq8SY5LObs"
      }
    },
    {
      "cell_type": "code",
      "source": [
        "## Just like for the previous challenge, plot the snr\n",
        "#the Q-transform and spectogram would not work because of the added simulated signals\n",
        "#Hence, to know which one is the right signal, do SNR\n"
      ],
      "metadata": {
        "id": "psI5cHHcW3dt"
      },
      "execution_count": 6,
      "outputs": []
    },
    {
      "cell_type": "code",
      "source": [
        " #Reuse Challenge 2 for the most part to have the SNR\n",
        "\n",
        "# Remove the low frequency content and downsample the data to 2048Hz\n",
        "\n",
        "pycbc_strain = highpass(pycbc_strain, 15.0)\n",
        "pycbc_strain = resample_to_delta_t(pycbc_strain, 1.0/2048)\n",
        "\n",
        "# Condition data = Remove 2 seconds of data from both the beginning and end \n",
        "conditioned_strain = pycbc_strain.crop(2,2)\n",
        "\n",
        "#set the \"plus\" polarization template\n",
        "hp, _ = get_td_waveform(approximant=apx,\n",
        "                     mass1=m,\n",
        "                     mass2=m,\n",
        "                     delta_t=conditioned_strain.delta_t,\n",
        "                     f_lower=25)\n",
        "\n",
        "# Resize the vector to match our data\n",
        "hp.resize(len(conditioned_strain))\n",
        "\n",
        "#shift the template\n",
        "template = hp.cyclic_time_shift(hp.start_time)\n",
        "\n",
        "\n",
        "#compute PSD and work it out\n",
        "psd = conditioned_strain.psd(4)\n",
        "\n",
        "psd = interpolate(psd, conditioned_strain.delta_f)\n",
        "psd = inverse_spectrum_truncation(psd, int(4 * pycbc_strain.sample_rate),\n",
        "                                  low_frequency_cutoff=15)\n",
        "\n"
      ],
      "metadata": {
        "id": "LCNRWwQjCulc"
      },
      "execution_count": 7,
      "outputs": []
    },
    {
      "cell_type": "code",
      "source": [
        "# # Let's plot the signal before and after shifting\n",
        "\n",
        "# pylab.figure()\n",
        "# pylab.title('Before shifting')\n",
        "# pylab.plot(hp.sample_times, hp)\n",
        "# pylab.xlabel('Time (s)')\n",
        "# pylab.ylabel('Strain')\n",
        "\n",
        "template = hp.cyclic_time_shift(hp.start_time)\n",
        "\n",
        "# pylab.figure()\n",
        "# pylab.title('After shifting')\n",
        "# pylab.plot(template.sample_times, template)\n",
        "# pylab.xlabel('Time (s)')\n",
        "# pylab.ylabel('Strain')\n",
        "\n",
        "##not needed "
      ],
      "metadata": {
        "id": "MepCubxPXchG"
      },
      "execution_count": 8,
      "outputs": []
    },
    {
      "cell_type": "code",
      "source": [
        "# Plot the SNR time-series\n",
        "#(code from tutorial)\n",
        "snr = matched_filter(template, \n",
        "                     conditioned_strain,\n",
        "                     psd=psd, \n",
        "                     low_frequency_cutoff=20)\n",
        "\n",
        "# Remove time corrupted by the template filter and the psd filter\n",
        "snr = snr.crop(4 + 4, 4)\n",
        "\n",
        "pylab.figure(figsize=[10, 4])\n",
        "pylab.plot(snr.sample_times, abs(snr))\n",
        "pylab.ylabel('Signal-to-noise')\n",
        "pylab.xlabel('Time (s)')\n",
        "pylab.show()\n",
        "\n",
        "peak = abs(snr).numpy().argmax() # find the peak (its location in the array)\n",
        "snrp = snr[peak] # get its SNR value\n",
        "time = snr.sample_times[peak] # get its location (in time)\n",
        "\n",
        "print(\"We found a signal at {}s with SNR {}\".format(time, \n",
        "                                                    abs(snrp)))"
      ],
      "metadata": {
        "colab": {
          "base_uri": "https://localhost:8080/",
          "height": 307
        },
        "id": "95C2Lw3xC6KK",
        "outputId": "83930638-8cc9-47ad-dff7-849125d8fa13"
      },
      "execution_count": 9,
      "outputs": [
        {
          "output_type": "display_data",
          "data": {
            "image/png": "[encoded data removed]",
            "text/plain": [
              "<Figure size 720x288 with 1 Axes>"
            ]
          },
          "metadata": {
            "needs_background": "light"
          }
        },
        {
          "output_type": "stream",
          "name": "stdout",
          "text": [
            "We found a signal at 2483.96728515625s with SNR 28.82874563250029\n"
          ]
        }
      ]
    },
    {
      "cell_type": "code",
      "source": [
        "#the merger is at maximum SNR. Hence, merger is at t = 2483.96728515625s"
      ],
      "metadata": {
        "id": "chswITpsDWbq"
      },
      "execution_count": 10,
      "outputs": []
    },
    {
      "cell_type": "markdown",
      "source": [
        "2) What is the matched-filter SNR of this signal?"
      ],
      "metadata": {
        "id": "AXMLY0laLSwx"
      }
    },
    {
      "cell_type": "code",
      "source": [
        "#answered with the previous code: matched-filter SNR = 28.828814019684607"
      ],
      "metadata": {
        "id": "62C83_QiDBys"
      },
      "execution_count": 11,
      "outputs": []
    }
  ]
}