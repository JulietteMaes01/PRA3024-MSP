{
  "nbformat": 4,
  "nbformat_minor": 0,
  "metadata": {
    "colab": {
      "name": "GWDA - Challenge 4.ipynb",
      "provenance": [],
      "collapsed_sections": []
    },
    "kernelspec": {
      "name": "python3",
      "display_name": "Python 3"
    },
    "language_info": {
      "name": "python"
    }
  },
  "cells": [
    {
      "cell_type": "code",
      "source": [
        "# Install Software and check its version\n",
        "! pip install -q 'gwosc==0.5.4'\n",
        "import gwosc\n",
        "print(gwosc.__version__)\n",
        "\n",
        "# #Uncomment this section to install everything once \n",
        "\n",
        "# ! pip install -q 'lalsuite==6.82' 'PyCBC==1.18.0' 'gwpy==2.0.2'\n",
        "# ! pip install matplotlib==3.1.3\n",
        "# # -- Click \"restart runtime\" in the runtime menu after recommenting all this"
      ],
      "metadata": {
        "id": "XvZy2a9fgjZ7",
        "colab": {
          "base_uri": "https://localhost:8080/"
        },
        "outputId": "50ceb273-3cd9-48ac-f22b-4e96ceb60a15"
      },
      "execution_count": null,
      "outputs": [
        {
          "output_type": "stream",
          "name": "stdout",
          "text": [
            "0.5.4\n"
          ]
        }
      ]
    },
    {
      "cell_type": "code",
      "source": [
        "# Packages\n",
        "\n",
        "from google.colab import drive\n",
        "\n",
        "import numpy as np\n",
        "import matplotlib.pyplot as plt\n",
        "%matplotlib inline\n",
        "import pylab\n",
        "\n",
        "import pycbc.types \n",
        "from pycbc.types import TimeSeries\n",
        "\n",
        "import pycbc.noise\n",
        "\n",
        "import pycbc.psd\n",
        "from pycbc.psd import interpolate, inverse_spectrum_truncation\n",
        "\n",
        "import pycbc.filter\n",
        "from pycbc.filter import resample_to_delta_t, highpass, matched_filter\n",
        "\n",
        "import pycbc.waveform\n",
        "from pycbc.waveform import get_td_waveform\n"
      ],
      "metadata": {
        "id": "UOM7M2xmhcRv"
      },
      "execution_count": null,
      "outputs": []
    },
    {
      "cell_type": "markdown",
      "source": [
        "1) Load the data of the LIGO Hanford detector from [2]. Plot the noise power spectral density (PSD) of that data. Test whether there is any gravitational wave signal present in the data or not? For this test, you can assume the GW signals can produce only from equal mass binary systems with a range between 5 to 10. We assume a threshold on matched filter SNR of 8 to claim detection of GW."
      ],
      "metadata": {
        "id": "qFoKELVYa7cG"
      }
    },
    {
      "cell_type": "code",
      "execution_count": null,
      "metadata": {
        "id": "ZhtAXtRYaxeh",
        "colab": {
          "base_uri": "https://localhost:8080/"
        },
        "outputId": "05774c69-6954-4471-a4a8-afa69975ab6d"
      },
      "outputs": [
        {
          "output_type": "stream",
          "name": "stdout",
          "text": [
            "Drive already mounted at /content/drive; to attempt to forcibly remount, call drive.mount(\"/content/drive\", force_remount=True).\n"
          ]
        }
      ],
      "source": [
        "###Load the data of the LIGO Hanford detector from [2]\n",
        "\n",
        "# from the drive so needs to be retrieved this way\n",
        "drive.mount('/content/drive')\n",
        "\n",
        "pycbc_strain = pycbc.types.load_timeseries('/content/drive/MyDrive/GW_noisedata-2.npy')"
      ]
    },
    {
      "cell_type": "code",
      "source": [
        "#solar masses for this exercise\n",
        "# equal mass range (5, 10)\n",
        "m = np.arange(5,10,0.1) # Mass range bewteen 5 to  10 (format arguments: start, stop, step)\n",
        "#m1 = m2 = m\n",
        "\n",
        "#approximant\n",
        "apx = \"TaylorF2\"\n",
        "\n",
        "#rates\n",
        "sample_rate = 2048 # samples per second\n",
        "data_length = 1024 # seconds\n",
        "delta_t = 1/sample_rate\n",
        "\n",
        "f_low = 15 #Hz\n"
      ],
      "metadata": {
        "id": "ZqLP_XYUYx6X"
      },
      "execution_count": null,
      "outputs": []
    },
    {
      "cell_type": "code",
      "source": [
        "# Remove the low frequency content and downsample the data to 2048Hz\n",
        "\n",
        "pycbc_strain = highpass(pycbc_strain, 15.0)\n",
        "pycbc_strain = resample_to_delta_t(pycbc_strain, 1.0/2048)\n",
        "\n",
        "# Condition data = Remove 2 seconds of data from both the beginning and end \n",
        "conditioned_strain = pycbc_strain.crop(2,2)\n"
      ],
      "metadata": {
        "id": "QctmIIJ3ZFRL"
      },
      "execution_count": null,
      "outputs": []
    },
    {
      "cell_type": "code",
      "source": [
        "###Plot the noise power spectral density (PSD) of that data.\n",
        "\n",
        "#compute PSD and work it out\n",
        "psd = conditioned_strain.psd(4)\n",
        "\n",
        "psd = interpolate(psd, conditioned_strain.delta_f)\n",
        "psd = inverse_spectrum_truncation(psd, int(4 * pycbc_strain.sample_rate),\n",
        "                                  low_frequency_cutoff=f_low)\n",
        "\n",
        "plt.plot(psd.sample_frequencies, psd)\n"
      ],
      "metadata": {
        "id": "Qr27qhk4a9gp",
        "colab": {
          "base_uri": "https://localhost:8080/",
          "height": 293
        },
        "outputId": "941267a4-ffe8-4e25-dca2-4e0afc32a4ba"
      },
      "execution_count": null,
      "outputs": [
        {
          "output_type": "execute_result",
          "data": {
            "text/plain": [
              "[<matplotlib.lines.Line2D at 0x7fac5ababe10>]"
            ]
          },
          "metadata": {},
          "execution_count": 6
        },
        {
          "output_type": "display_data",
          "data": {
            "image/png": "[encoded data removed]",
            "text/plain": [
              "<Figure size 432x288 with 1 Axes>"
            ]
          },
          "metadata": {
            "needs_background": "light"
          }
        }
      ]
    },
    {
      "cell_type": "code",
      "source": [
        "#the psd looks weird but does not work otherwise"
      ],
      "metadata": {
        "id": "RqCqGUkOX_NF"
      },
      "execution_count": null,
      "outputs": []
    },
    {
      "cell_type": "code",
      "source": [
        "###Test whether there is any gravitational wave signal present in the data or not? ###\n",
        "\n",
        "## initialize list first \n",
        "SNR_list = np.zeros((len(m), 2), float) #--> create a array of 2 columns that has the number of rows corresponding to the number or tried masses\n",
        "\n",
        "#Create Loop to go through all values for the mass \n",
        "for i in range(0, len(m)):  \n",
        "  #get the template\n",
        "  hp, _ = get_td_waveform(approximant=apx,\n",
        "                          mass1=m[i],\n",
        "                          mass2=m[i],\n",
        "                          delta_t=delta_t,\n",
        "                          f_lower=f_low)\n",
        "  # Resize the vector to match our data\n",
        "  hp.resize(len(conditioned_strain))\n",
        "  #shift the template\n",
        "  template = hp.cyclic_time_shift(hp.start_time)\n",
        "\n",
        "  # Compute SNRs time-series\n",
        "  SNRs = matched_filter(template, \n",
        "                      conditioned_strain,\n",
        "                      psd=psd, \n",
        "                      low_frequency_cutoff=f_low)\n",
        "\n",
        "  # Remove time corrupted by the template filter and the psd filter\n",
        "  SNRs =SNRs.crop(4 + 4, 4)\n",
        "\n",
        "  #find the peak and the values corresponding\n",
        "  peak = abs(SNRs).numpy().argmax() # find the peak (its location in the array)\n",
        "  snrp = SNRs[peak] # get its SNR value\n",
        "  time = SNRs.sample_times[peak] # get its location (in time)\n",
        "\n",
        "  #store the maximum SNR (peak) each time\n",
        "  SNR_list[i][0] = snrp #the first column in the previously created array is the peak ([i] = for each mass)\n",
        "  SNR_list[i][1] = time #the second column is the time\n",
        "\n",
        "# Plotting\n",
        "pylab.plot(SNRs.sample_times, abs(SNRs))\n",
        "pylab.ylabel('signal-to-noise ratio')\n",
        "pylab.xlabel('time (s)')\n",
        "pylab.show()\n",
        "print('Maximum SNR', max(abs(SNRs)))\n",
        "\n",
        "print(\"\\n We found a signal at {}s with SNR {}\".format(time, \n",
        "                                                    abs(snrp)))"
      ],
      "metadata": {
        "colab": {
          "base_uri": "https://localhost:8080/",
          "height": 348
        },
        "id": "kVCgws6q3sNt",
        "outputId": "8138af98-45ac-439e-c69a-76a9cc1dfba8"
      },
      "execution_count": null,
      "outputs": [
        {
          "output_type": "stream",
          "name": "stderr",
          "text": [
            "/usr/local/lib/python3.7/dist-packages/ipykernel_launcher.py:34: ComplexWarning: Casting complex values to real discards the imaginary part\n"
          ]
        },
        {
          "output_type": "display_data",
          "data": {
            "image/png": "[encoded data removed]",
            "text/plain": [
              "<Figure size 432x288 with 1 Axes>"
            ]
          },
          "metadata": {
            "needs_background": "light"
          }
        },
        {
          "output_type": "stream",
          "name": "stdout",
          "text": [
            "Maximum SNR 5.02322139327992\n",
            "\n",
            " We found a signal at 1187008728.679297s with SNR 5.02322139327992\n"
          ]
        }
      ]
    },
    {
      "cell_type": "code",
      "source": [
        "## there is no gravitational wave signal present in the dat as the matched filter SNR did not pass the threshold of 8.\n"
      ],
      "metadata": {
        "id": "vzt7TO1TbHkK"
      },
      "execution_count": null,
      "outputs": []
    },
    {
      "cell_type": "markdown",
      "source": [
        "2) Whiten the above data using its noise PSD. You can use PyCBC based function of the Welch method to estimate the PSD. Construct a histogram of the whitened data and show that the whiten data follows a Gaussian distribution with zero mean."
      ],
      "metadata": {
        "id": "_xWk9nlJhYdj"
      }
    },
    {
      "cell_type": "code",
      "source": [
        "##Whiten the above data using its noise PSD\n",
        "data_whitened = (conditioned_strain.to_frequencyseries() / psd**0.5).to_timeseries()\n",
        "data_whitened = data_whitened.crop(4 + 4, 4)"
      ],
      "metadata": {
        "id": "Fq9bLLKSqFq9"
      },
      "execution_count": null,
      "outputs": []
    },
    {
      "cell_type": "code",
      "source": [
        "dir(data_whitened)"
      ],
      "metadata": {
        "id": "blqGK0IXu2AU"
      },
      "execution_count": null,
      "outputs": []
    },
    {
      "cell_type": "code",
      "source": [
        "##compute the mean to check if it is indeed at 0\n",
        "\n",
        "sum = data_whitened.sum()\n",
        "# sum\n",
        "\n",
        "mean = sum/len(data_whitened)\n",
        "mean"
      ],
      "metadata": {
        "colab": {
          "base_uri": "https://localhost:8080/"
        },
        "id": "9Pn7eLinubqC",
        "outputId": "531d8eb5-66bc-4344-8b24-afa306e9acc1"
      },
      "execution_count": null,
      "outputs": [
        {
          "output_type": "execute_result",
          "data": {
            "text/plain": [
              "-0.0004398528481684202"
            ]
          },
          "metadata": {},
          "execution_count": 12
        }
      ]
    },
    {
      "cell_type": "code",
      "source": [
        "##build the histogram\n",
        "num_bins = 200 #set the number of desired bins (the most,  the better)\n",
        "plt.hist(data_whitened, num_bins, facecolor='blue', alpha=0.5) #create histogram \n",
        "\n",
        "min_ylim, max_ylim = plt.ylim()\n",
        "plt.axvline(x = mean , color='k', linestyle='dashed', linewidth=1) #draw a line at 0 to check if the mean of the withen data is indeed 0 (-0.0004398528481684202)\n",
        "plt.text((mean), max_ylim*0.8, 'Mean = {:.2f}'.format(round(mean)))\n",
        "\n",
        "pylab.ylabel('Probability')\n",
        "pylab.xlabel('Whiten Strain')\n",
        "pylab.title('Histogram of whiten data')\n",
        "pylab.show()"
      ],
      "metadata": {
        "colab": {
          "base_uri": "https://localhost:8080/",
          "height": 295
        },
        "id": "qcnwxvUBnC8U",
        "outputId": "26e7ac80-8a44-4ac0-c031-7a22e21348c3"
      },
      "execution_count": null,
      "outputs": [
        {
          "output_type": "display_data",
          "data": {
            "image/png": "[encoded data removed]",
            "text/plain": [
              "<Figure size 432x288 with 1 Axes>"
            ]
          },
          "metadata": {
            "needs_background": "light"
          }
        }
      ]
    },
    {
      "cell_type": "code",
      "source": [
        "# the histogram of the whiten data does indeed follow a Gaussian distribution with a mean at 0"
      ],
      "metadata": {
        "id": "tMQUxecupWfk"
      },
      "execution_count": null,
      "outputs": []
    }
  ]
}