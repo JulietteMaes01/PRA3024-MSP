{
  "nbformat": 4,
  "nbformat_minor": 0,
  "metadata": {
    "colab": {
      "name": "JM_PRA3024_2022_Week_4_COSMOLOGY.ipynb",
      "provenance": [],
      "collapsed_sections": [],
      "include_colab_link": true
    },
    "kernelspec": {
      "display_name": "Python 3",
      "language": "python",
      "name": "python3"
    },
    "language_info": {
      "codemirror_mode": {
        "name": "ipython",
        "version": 3
      },
      "file_extension": ".py",
      "mimetype": "text/x-python",
      "name": "python",
      "nbconvert_exporter": "python",
      "pygments_lexer": "ipython3",
      "version": "3.8.10"
    }
  },
  "cells": [
    {
      "cell_type": "markdown",
      "metadata": {
        "id": "view-in-github",
        "colab_type": "text"
      },
      "source": [
        "<a href=\"https://colab.research.google.com/github/JulietteMaes01/PRA3024-MSP/blob/main/JM_PRA3024_2022_Week_4_COSMOLOGY.ipynb\" target=\"_parent\"><img src=\"https://colab.research.google.com/assets/colab-badge.svg\" alt=\"Open In Colab\"/></a>"
      ]
    },
    {
      "cell_type": "markdown",
      "metadata": {
        "id": "TkdruF2bYl5j"
      },
      "source": [
        "# <font color='deepskyblue'>Cosmology MCMC notebook </font>"
      ]
    },
    {
      "cell_type": "markdown",
      "metadata": {
        "id": "t0SazaVif4pl"
      },
      "source": [
        "## <font color='deepskyblue'>Preliminaries</font>"
      ]
    },
    {
      "cell_type": "code",
      "metadata": {
        "colab": {
          "base_uri": "https://localhost:8080/"
        },
        "id": "y6hcXmMbhbMA",
        "scrolled": true,
        "outputId": "309a4416-5af8-4492-dc50-129635c87545"
      },
      "source": [
        "# Load and install required packages (if not available on server)\n",
        "!pip install getdist\n",
        "import numpy as np\n",
        "import matplotlib.pyplot as plt\n",
        "import scipy.integrate as integrate\n",
        "import pylab\n",
        "import getdist, IPython\n",
        "from IPython.display import Image\n",
        "from getdist import plots, MCSamples, loadMCSamples"
      ],
      "execution_count": 1,
      "outputs": [
        {
          "output_type": "stream",
          "name": "stdout",
          "text": [
            "Requirement already satisfied: getdist in /usr/local/lib/python3.7/dist-packages (1.3.4)\n",
            "Requirement already satisfied: matplotlib!=3.5.0,>=2.2.0 in /usr/local/lib/python3.7/dist-packages (from getdist) (3.2.2)\n",
            "Requirement already satisfied: PyYAML>=5.1 in /usr/local/lib/python3.7/dist-packages (from getdist) (6.0)\n",
            "Requirement already satisfied: numpy>=1.17.0 in /usr/local/lib/python3.7/dist-packages (from getdist) (1.21.5)\n",
            "Requirement already satisfied: scipy>=1.5.0 in /usr/local/lib/python3.7/dist-packages (from getdist) (1.7.3)\n",
            "Requirement already satisfied: pyparsing!=2.0.4,!=2.1.2,!=2.1.6,>=2.0.1 in /usr/local/lib/python3.7/dist-packages (from matplotlib!=3.5.0,>=2.2.0->getdist) (3.0.7)\n",
            "Requirement already satisfied: python-dateutil>=2.1 in /usr/local/lib/python3.7/dist-packages (from matplotlib!=3.5.0,>=2.2.0->getdist) (2.8.2)\n",
            "Requirement already satisfied: kiwisolver>=1.0.1 in /usr/local/lib/python3.7/dist-packages (from matplotlib!=3.5.0,>=2.2.0->getdist) (1.3.2)\n",
            "Requirement already satisfied: cycler>=0.10 in /usr/local/lib/python3.7/dist-packages (from matplotlib!=3.5.0,>=2.2.0->getdist) (0.11.0)\n",
            "Requirement already satisfied: six>=1.5 in /usr/local/lib/python3.7/dist-packages (from python-dateutil>=2.1->matplotlib!=3.5.0,>=2.2.0->getdist) (1.15.0)\n"
          ]
        }
      ]
    },
    {
      "cell_type": "markdown",
      "metadata": {
        "id": "ayxOF90lVqKY"
      },
      "source": [
        "\n",
        "<font color='tomato'>\n",
        "(NB: The equations you'll directly need to build your code are those $\\boxed{\\text{with a box around}}$)\n",
        "</font>\n",
        "\n",
        "## <font color='deepskyblue'>The $\\Lambda$CDM Model</font>\n",
        "\n",
        "The Lambda-Cold-Dark-Matter ($\\Lambda$CDM) Model is our concordance cosmological model. It postulates a Universe that behaves according to **General Relativity**, filled with **baryons** (protons, neutrons - the stuff we and stars are made of!), **Cold Dark Matter (CDM)** and a **Cosmological Constant** $\\Lambda$.\n",
        "\n",
        "The expansion of the Universe is best described in terms of the **scale factor** $a$ (the \"radius\" of the Universe, conventionally set to 1 today) and the **Hubble rate** $H$\n",
        "\n",
        "$$\n",
        "H \\equiv \\frac{\\dot a}{a}\n",
        "$$\n",
        "\n",
        "The Einstein Equations in a **homogeneous, isotropic** Universe have an especially simple form and a special name, **Friedmann Equation**:\n",
        "\n",
        "$$\n",
        "H^2 = \\frac{8\\pi G}{3}\\rho + \\frac{k}{a^2}\n",
        "$$\n",
        "\n",
        "where $\\rho$ is the total energy density of the Universe (at a certain time or size), and $k$ is a universal constant related to the [spatial curvature and shape of the Universe](https://en.wikipedia.org/wiki/Shape_of_the_universe#:~:text=The%20spatial%20curvature%20is%20related,indistinguishable%20spaces%20with%20different%20topologies.). In the $\\Lambda$CDM model (and at late enough times), this additionally simplifies to\n",
        "\n",
        "$$\n",
        "\\boxed{\n",
        "H^2 = H_0^2\\left(\\Omega_\\Lambda + \\Omega_m a^{-3} + \\Omega_k a^{-2}\\right)\n",
        "}\n",
        "\\qquad\n",
        "\\qquad\n",
        "\\boxed{\n",
        "\\Omega_m + \\Omega_\\Lambda + \\Omega_k = 1\n",
        "}\n",
        "\\tag{1}\n",
        "$$\n",
        "\n",
        "$H_0$ is the value of the Hubble rate *today*, and the parameters $\\Omega_m$, $\\Omega_\\Lambda$ and $\\Omega_k$ are dimensionless quantities indicating how much of the present expansion of the Universe is due to (non-relativistic) matter, cosmological constant $\\Lambda$, and spatial curvature $k$. Note that the three $\\Omega$'s are *not independent* (their sum is 1) and that we grouped together the contribution of baryons and CDM,\n",
        "\n",
        "$$\n",
        "\\Omega_m = \\Omega_{\\rm CDM} + \\Omega_{\\rm b}\n",
        "$$\n",
        "\n",
        "and that we have evidence that independent evidence that $\\Omega_b \\approx 5$\\%. Note that only $\\Omega_m \\geq 0$ makes physical sense, while in principle both $\\Omega_\\Lambda$ and $\\Omega_k$ can be negative.\n",
        "\n",
        "The present Hubble rate is conventionally parametrised in terms of the dimensionless $h$:\n",
        "\n",
        "$$\n",
        "\\boxed{H_0 \\equiv h\\,\\frac{100 \\,\\text{km}}{\\text{s Mpc}}}\n",
        "\\tag{2}\n",
        "$$\n",
        "\n",
        "where Mpc = Megaparsec and [parsec](https://en.wikipedia.org/wiki/Parsec) equals to about $3.26$ light years or $3.086 \\cdot 10^{16}$ m. \n",
        "\n",
        "In essence, these equations give us the relation between *what exists in the Universe* and *how the Universe expanded*. Measure one, I can tell you the other. This is precisely what we aim to do!\n",
        "\n",
        "Time to define the function $H(z)$. Don't forget to include the useful parameters as arguments of the function, and to define `parsec`."
      ]
    },
    {
      "cell_type": "code",
      "metadata": {
        "id": "CFIYCrH2XccJ"
      },
      "source": [
        "# # Hubble rate: look at equations (1) and (2) for the definition!\n",
        "# def Hubble(): # Hubble(arg0, arg1, arg2, etc...)\n",
        "#     return 1. # <--- YOUR CODE GOES HERE!"
      ],
      "execution_count": 2,
      "outputs": []
    },
    {
      "cell_type": "code",
      "source": [
        "parsec = 3.086*10**(16)\n",
        "megaparsec = parsec*10**6\n",
        "\n",
        "print(megaparsec)"
      ],
      "metadata": {
        "colab": {
          "base_uri": "https://localhost:8080/"
        },
        "id": "AbyIVuKruSu9",
        "outputId": "0c2ebf8c-8830-4a75-a98e-2ca4648859a5"
      },
      "execution_count": 3,
      "outputs": [
        {
          "output_type": "stream",
          "name": "stdout",
          "text": [
            "3.086e+22\n"
          ]
        }
      ]
    },
    {
      "cell_type": "code",
      "source": [
        "def omega_K(omega_L, omega_m):\n",
        "  \n",
        "  omega_K = 1 - (omega_L + omega_m)\n",
        "  return omega_K "
      ],
      "metadata": {
        "id": "-LKDYGHbxwYx"
      },
      "execution_count": 4,
      "outputs": []
    },
    {
      "cell_type": "code",
      "source": [
        "def h0(h):\n",
        "  H0 = h*(100*10**3/megaparsec)\n",
        "  return H0\n"
      ],
      "metadata": {
        "id": "UPPGMEZZyrN8"
      },
      "execution_count": 5,
      "outputs": []
    },
    {
      "cell_type": "code",
      "source": [
        "def Hubble(h, omega_L, omega_m, z): \n",
        "  # omega_k = 1 - (omega_L + omega_m)\n",
        "  # H0 = h*(100*10**3/megaparsec)\n",
        "  H0 = h0(h)\n",
        "  omega_k = omega_K(omega_L, omega_m)\n",
        "  H = H0*np.sqrt(omega_L + omega_m*(1+z)**(3) + omega_k*(1+z)**(2))\n",
        "  return H"
      ],
      "metadata": {
        "id": "eJryD5Dyr-Nc"
      },
      "execution_count": 6,
      "outputs": []
    },
    {
      "cell_type": "markdown",
      "metadata": {
        "id": "NNm-m0auXccK"
      },
      "source": [
        "## <font color='deepskyblue'>Supernovae Ia</font>\n",
        "\n",
        "In order to track the expansion of the Universe, we will look at Supernovae type Ia observations. SNIa are formed when a *white dwarf* accretes matter from a companion until it reaches a critical mass of about $1.44 M_\\odot$ (solar masses), after which it explodes **at always the same luminosity** $L_{\\rm SN}$. Therefore, the observed [magnitude](https://en.wikipedia.org/wiki/Magnitude_(astronomy)) is only a function of their [**luminosity distance**](https://en.wikipedia.org/wiki/Distance_measures_(cosmology)) from Earth, defined as the ratio of the intrinsic luminosity $L_{\\rm SNIa}$ and the measured *surface brightness* $\\Phi$ (energy per unit time per unit area)\n",
        "\n",
        "$$ d_L\\equiv \\frac{L_{\\rm SN}}{4\\pi \\Phi} $$\n",
        "\n",
        "While photons (light rays) travel from the distant SNIa to Earth, the Universe expands and the photons get redshifted, and this redshift is directly related to the size of the Universe when the photon was emitted compared to today:\n",
        "\n",
        "$$ \\frac{\\lambda_{\\rm obs}}{\\lambda_{\\rm em}} \\equiv 1 + z_{\\rm em} = \\frac{1}{a_{\\rm em}}$$\n",
        "\n",
        "We can express the luminosity distance in terms of the Hubble rate:\n",
        "\n",
        "$$\n",
        "\\boxed{\n",
        "d_L(z) = \\frac{c}{H_0}(1+z) \\times \n",
        "\\begin{cases}\n",
        "    \\cfrac{1}{\\sqrt{\\Omega_k}} \\,\\sinh\\left(\\sqrt{\\Omega_k}\\,D(z)\\right) & \\Omega_k > 0\n",
        "    \\\\[.5em]\n",
        "    D(z) & \\Omega_k = 0\n",
        "    \\\\[.5em]\n",
        "    \\cfrac{1}{\\sqrt{-\\Omega_k}} \\,\\sin\\left(\\sqrt{-\\Omega_k}\\,D(z)\\right) & \\Omega_k < 0\n",
        "\\end{cases}\n",
        "\\qquad\\qquad\n",
        "D(z) \\equiv H_0\\int_0^z \\frac{{\\rm d}Z}{H(Z)}\n",
        "}\n",
        "\\tag{3}\n",
        "$$\n",
        "\n",
        "where $c$ is the speed of light: $c \\simeq 2.998 \\cdot 10^{5}$ km/s.\n",
        "\n",
        "Clearly, there exists a relation between $d_L(z)$ and $H(z)$, so the luminosity distance is a useful measure of the Universe expansion history. \n",
        "In practice, however, the actual observable for [Supernovae Type Ia](https://en.wikipedia.org/wiki/Type_Ia_supernova) (or SNIa) is the [distance modulus](https://en.wikipedia.org/wiki/Distance_modulus) $\\mu$, defined as the difference between the *apparent magnitude* $m$ and the *absolute magnitude* $M$:\n",
        "\n",
        "$$\n",
        "\\boxed{\n",
        "\\mu(z) \\equiv m(z) - M \\equiv 5 \\log_{10} \\frac{d_L(z)}{10\\,\\text{pc}}\n",
        "}\n",
        "\\tag{4}\n",
        "$$\n",
        "\n",
        "We can create the function `dL(z, h, Omega_m, Omega_Lambda)`. You can also pass the function `Hubble` as an argument: `dL(z, Hubble, Omega_m, Omega_Lambda)`. Additionally, you can create $D(z)$ for your convenience.\n",
        "\n",
        "Note that you need to integrate the function $H(z)$, so write your own quick-and-easy numerical integrator, for example implementing the [trapezoidal rule](https://en.wikipedia.org/wiki/Trapezoidal_rule) or your favourite alternative, or [look up the pre-written methods](https://docs.scipy.org/doc/scipy/reference/tutorial/integrate.html). Make sure it returns $d_L$ in parsecs and that it uses $H_0$ measured in units of 100 km/s/Mpc (which we called $h$)."
      ]
    },
    {
      "cell_type": "code",
      "metadata": {
        "id": "QAwegy3UXccK"
      },
      "source": [
        "# SPEED_OF_LIGHT \n",
        "c = 2.998*10**8 # <--- Choose your favourite units, but make sure you're consistent!\n",
        "\n",
        "#Integreation for Dz\n",
        "def Dz(h,omega_L, omega_m, low_b, high_b):\n",
        "  H0 = h0(h)\n",
        "  \n",
        "  Dz = H0*integrate.quad(lambda z: 1/(Hubble(h, omega_L, omega_m, z)), low_b, high_b)[0] #add [0] to nto show the error\n",
        "  return Dz\n",
        "\n",
        "# luminosity distance\n",
        "def dL(z, h, omega_m, omega_L): \n",
        "  H0 = h0(h)\n",
        "  omega_k = omega_K(omega_L, omega_m)\n",
        "\n",
        "  if omega_k > 0:\n",
        "    dL = (c/H0)*(1+z) * 1/(np.sqrt(omega_k)*np.sinh(np.sqrt(omega_k)*Dz(h, omega_L, omega_m, 0, z)))\n",
        "  elif omega_k == 0: \n",
        "    dL = (c/H0)*(1+z) * Dz(h,omega_L, omega_m, 0, z)\n",
        "  elif omega_k < 0:\n",
        "    dL = (c/H0)*(1+z) * 1/(np.sqrt(-omega_k)*np.sin(np.sqrt(-omega_k)*Dz(h, omega_L, omega_m, 0, z)))\n",
        "  return dL/parsec\n",
        "\n",
        "# distance modulus\n",
        "def mu(z, h, omega_m, omega_L):\n",
        "  mu = 5*np.log10(dL(z, h, omega_m, omega_L)/10)\n",
        "  return mu\n"
      ],
      "execution_count": 7,
      "outputs": []
    },
    {
      "cell_type": "markdown",
      "metadata": {
        "id": "SLWjCnSSXccL"
      },
      "source": [
        "## <font color='deepskyblue'>The Union2.1 Compilation</font>\n",
        "\n",
        "Our source of data is from [Union2.1](http://supernova.lbl.gov/Union/). It is a collection of $580$ SNIa, each observation is comprised of redshift $z$ \n",
        "Our goal today is to use SNIa measurements to constrain the parameters ($h, \\Omega_\\Lambda, \\Omega_m$).\n",
        "\n",
        "In essence, we can calculate for each redshift the theoretical value of $\\mu$ using this equation with the expression for $d_L(z)$ and our model of choice $H(z)$ -- note that we will need to perform a numerical integral! -- and compare this value with observations. A different model would amount to changing the theoretical value of $H(z)$.\n",
        "\n",
        "Let us start by importing and plotting the data:"
      ]
    },
    {
      "cell_type": "code",
      "metadata": {
        "colab": {
          "base_uri": "https://localhost:8080/"
        },
        "id": "sKb3QGqXTuJ5",
        "outputId": "e88f4c57-2cb1-403a-9d0d-8b9cdab748b3"
      },
      "source": [
        "dataloc = \"http://supernova.lbl.gov/Union/figures/SCPUnion2.1_mu_vs_z.txt\"\n",
        "\n",
        "# Read in data as numpy array.\n",
        "# Format is [name, redshift, magnitude, magnitude error, and another number?]\n",
        "data = np.genfromtxt(dataloc)\n",
        "\n",
        "# Print the first line as an example. (Note that genfromtxt turns the names into 'Not A Number')\n",
        "print(data[0])"
      ],
      "execution_count": 8,
      "outputs": [
        {
          "output_type": "stream",
          "name": "stdout",
          "text": [
            "[           nan 2.84880000e-02 3.53465834e+01 2.23905933e-01\n",
            " 1.28418942e-01]\n"
          ]
        }
      ]
    },
    {
      "cell_type": "code",
      "metadata": {
        "id": "2mvAA83gVIHz"
      },
      "source": [
        "# Extract the redshifts (zs), distance modulus (dist_mod) and magnitude estimated errors (err_dist_mod)\n",
        "zs = data.T[1] # redshift\n",
        "distance_modulus = data.T[2] # distance modulus\n",
        "error_distance_modulus = data.T[3] # errors on distance modulus"
      ],
      "execution_count": 9,
      "outputs": []
    },
    {
      "cell_type": "code",
      "metadata": {
        "id": "x2hF3drbVPEW"
      },
      "source": [
        "# Let's look at the data, just for fun. \n",
        "# We can look both at the raw data (distance modulus) or calculate the luminosity distance\n",
        "# Note that Numpy allows us to manipulate whole arrays at once with something like:\n",
        "#     array_2 = some_function_of(array_1)\n",
        "\n",
        "# luminosity distance in pc\n",
        "luminosity_distance_pc = 10. * 10.**(distance_modulus / 5.)\n",
        "\n",
        "# and in Mpc\n",
        "luminosity_distance_Mpc = luminosity_distance_pc / 10.**6\n",
        "\n",
        "# and the error on that distance:\n",
        "error_luminosity_distance_Mpc = 5. * (10.**((distance_modulus + error_distance_modulus)/5.-6.) - 10.**((distance_modulus - error_distance_modulus)/5.-6.))"
      ],
      "execution_count": 10,
      "outputs": []
    },
    {
      "cell_type": "code",
      "metadata": {
        "colab": {
          "base_uri": "https://localhost:8080/",
          "height": 334
        },
        "id": "o81D-kOYYwx5",
        "outputId": "999a9b19-b4ed-4bd7-a6b4-b1243e1b4c04"
      },
      "source": [
        "plt.subplots(1, 2, figsize=(15, 5))\n",
        "\n",
        "# Plot distance modulus versus redshift (original data)\n",
        "plt.subplot(1, 2, 1)\n",
        "plt.xlabel(\"Redshift\")\n",
        "plt.ylabel(\"Distance Modulus\")\n",
        "plt.errorbar(zs, distance_modulus, yerr=error_distance_modulus, fmt='o', color='black', ecolor='darkcyan', markersize=4)\n",
        "\n",
        "# Plot luminosity distance versus redshift\n",
        "plt.subplot(1, 2, 2)\n",
        "plt.xlabel(\"Redshift\")\n",
        "plt.ylabel(\"Luminosity Distance [Mpc]\")\n",
        "plt.errorbar(zs, luminosity_distance_Mpc, yerr=error_luminosity_distance_Mpc, fmt='o', color='black', ecolor='darkcyan', markersize=4)\n",
        "plt.show()"
      ],
      "execution_count": 11,
      "outputs": [
        {
          "output_type": "display_data",
          "data": {
            "image/png": "[encoded data removed]",
            "text/plain": [
              "<Figure size 1080x360 with 2 Axes>"
            ]
          },
          "metadata": {
            "needs_background": "light"
          }
        }
      ]
    },
    {
      "cell_type": "markdown",
      "metadata": {
        "id": "Hxy2SP9SXccN"
      },
      "source": [
        "## <font color='deepskyblue'>Bayes' Theorem: Likelihood, Prior, Posterior (and Evidence...)</font>\n",
        "\n",
        "The **conditional probability of A given that B is true** is denoted with $P(A|B)$ (read: *probability of A given B*). \n",
        "Did A happen? Then B has probability $P(B|A)$ of happening.\n",
        "\n",
        "[**Bayes' Theorem**](https://en.wikipedia.org/wiki/Bayes%27_theorem) is simply a reflection of the symmetry of the concept of joint probability:\n",
        "\n",
        "$$\n",
        "P(A|B)P(B) = P(B|A)P(A)\n",
        "$$\n",
        "\n",
        "In physics, our goal is often to determine how likely the values of some parameters $\\theta$ are, given how well they reproduce the data $D$. \n",
        "We write Bayes' theorem in the following equivalent form:\n",
        "\n",
        "$$\n",
        "P(\\theta | D) = \\frac{P(D|\\theta)P(\\theta)}{P(D)}\n",
        "$$\n",
        "\n",
        "The various terms conventionally take the names:\n",
        "\n",
        "$$\n",
        "\\begin{aligned}\n",
        "P(\\theta | D) & && \\text{Posterior}\n",
        "\\\\\n",
        "P(D | \\theta)& && \\text{Likelihood}\n",
        "\\\\\n",
        "P(\\theta) & && \\text{Prior}\n",
        "\\\\\n",
        "P(D) & && \\text{Evidence}\n",
        "\\end{aligned}\n",
        "$$\n",
        "\n",
        "### <font color='deepskyblue'>Prior</font>\n",
        "\n",
        "The *prior* quantifies our degree of prior belief in the model parameters. It can contain the results of previous experiments, or theoretical considerations (for instance, that certain parameters cannot be negative, etc.). \n",
        "\n",
        "We can have *strong priors* about something - the Sun still existing at night, see the comic below - or not.\n",
        "When we do *not* have compelling prior knowledge about a parameter, we generally use a *non-informative* prior probability distribution, most often related to the [uniform distribution](https://en.wikipedia.org/wiki/Continuous_uniform_distribution)\n",
        "\n",
        "$$\n",
        "\\begin{aligned}\n",
        "    \\text{Uniform} & && \\theta \\in \\text{Uniform}[\\theta_{\\rm min}, \\theta_{\\rm max}]\n",
        "    \\\\\n",
        "    \\text{Log Uniform} & && \\log\\theta \\in \\text{Uniform}[\\log\\theta_{\\rm min}, \\log\\theta_{\\rm max}]\n",
        "\\end{aligned}\n",
        "$$\n",
        "\n",
        "You may sometimes hear that \"the prior doesn't matter\". While this is not strictly true, it is however true that in many instances the *likelihood* depends more dramatically on the parameters and will have a dominating contribution to the posterior. You are more than welcome to try different priors for the model parameters and see if and how your results change.\n",
        "\n",
        "### <font color='deepskyblue'>Likelihood</font>\n",
        "\n",
        "The measure of how well our model reproduces the data is the **likelihood** $\\mathcal L$. For normal (=Gaussian), uncorrelated data $\\mu_i$ with errors $\\sigma_i$ ($i = \\{1,580\\}$), the likelihood is related to the famous [**chi-squared**](https://en.wikipedia.org/wiki/Chi-square_distribution) via\n",
        "\n",
        "$$\n",
        "P(D | \\theta) \\equiv \\mathcal L = \\exp\\left(-\\frac{\\chi^2}{2}\\right)\n",
        "\\qquad\n",
        "\\qquad\n",
        "\\boxed{\n",
        "\\chi^2 \\equiv \\sum_{i=1}^{580} \\frac{\\left(\\mu_i^{(\\rm theor)} - \\mu_i^{(\\rm obs)}\\right)^2}{\\sigma_i^2}\n",
        "}\n",
        "\\tag{5}\n",
        "$$\n",
        "\n",
        "A *high likelihood* corresponds to a *low chi squared*.\n",
        "\n",
        "In principle, we could attack the problem brute-force: create a grid of values for $h$, $\\Omega_m$, $\\Omega_\\Lambda$, calculate the likelihood for each combination, and create a profile for the likelihood. \n",
        "\n",
        "In practical cases, however, this is not only sub-optimal but sometimes **impossible**. Think of complicated models with 20+ free parameters (this is not that unusual in physics, by the way). Even a very coarse grained grid of 100 values for each parameter would result in more than $10^{40}$ (!!!) different parameter combination to be tested. You can probably understand why this is undesirable.\n",
        "\n",
        "### <font color='deepskyblue'>Evidence</font>\n",
        "\n",
        "This is the tricky bit. The evidence, which is \"*the probability of observing certain data*\", is not something that is easy to evaluate or interpret. This looks like a serious limitation to finding the:\n",
        "\n",
        "\n",
        "### <font color='deepskyblue'>Posterior</font>\n",
        "\n",
        "What does the data tell us about the model parameters? The answer is the *posterior probability distribution*, often (but not necessarily) expressed as (average $\\pm$ standard deviation)\n",
        "\n",
        "$$\n",
        "\\theta_i = \\bar\\theta_i \\pm \\sigma_i\n",
        "$$\n",
        "\n",
        "In other words, the posterior tells us how likely it is for the model parameters to have certain values, *given that we observe the data* $D$.\n",
        "\n",
        "*This is the final goal of our analysis!*\n",
        "\n",
        "<br>\n",
        "\n",
        "![title](http://1.bp.blogspot.com/-tTx4HDejSww/ULcTeK9_V_I/AAAAAAAAA8g/PCYOH-eXGbk/s1600/frequentists_vs_bayesians.png)\n",
        "![title](https://i.redd.it/5r0hwixt0m931.jpg)"
      ]
    },
    {
      "cell_type": "markdown",
      "metadata": {
        "id": "lymI_LaObhcU"
      },
      "source": [
        "## <font color='deepskyblue'>Markov-Chain Monte Carlo</font>\n",
        "\n",
        "Markov-Chain Monte Carlo techniques are a class of methods to sample a probability distribution $P(x)$ - in our case $P(\\theta | D)$ - provided that we can calculate a density $\\mathcal F(x)$ **that is proportional to it** - in our case $P(\\theta)P(D|\\theta)$ = likelihood $\\times$ prior. Among these, a very popular one is the [**Metropolis-Hastings**](https://en.wikipedia.org/wiki/Metropolis%E2%80%93Hastings_algorithm) algorithm, which is what we will use.\n",
        "\n",
        "Schematically, the algorithm works as follows:\n",
        "* Start with an $n$-tuple of parameters $\\theta_{\\rm old} = \\{\\theta_1, \\theta_2, \\dots\\}_{\\rm old}$ (in our case $\\theta = \\{h,\\Omega_m,\\Omega_\\Lambda\\}$) and calculate the $\\mathcal F_{\\rm old}$\n",
        "* Propose a new set of parameters $\\theta_{\\rm prop}$, calculate the new corresponding $\\mathcal F_{\\rm prop}$. How you propose the new parameters is not essential as long as the probability of going from one set of parameters to the next is the same as the inverse: $P(\\theta_a \\to \\theta_b) = P(\\theta_b \\to \\theta_a)$. For this, we normally take Gaussian displacements with some (relatively small) standard deviation.\n",
        "* Compare the new and old likelihoods-priors:\n",
        "    * If $\\mathcal F_{\\rm prop} > \\mathcal F_{\\rm old}$, accept the step: $\\theta_{\\rm new} = \\theta_{\\rm prop}$\n",
        "    * Otherwise, accept with probability $P_{\\rm accept} = \\mathcal F_{\\rm prop}/\\mathcal F_{\\rm old}$\n",
        "* If accepted, $\\theta_{\\rm new} = \\theta_{\\rm prop}$ and record the step; otherwise, $\\theta_{\\rm new} = \\theta_{\\rm old}$ (no re-recording)\n",
        "* Update $\\theta_{\\rm old} = \\theta_{\\rm new}$\n",
        "* Repeat\n",
        "\n",
        "The MC chain keeps going until the desired number of steps or, ideally, when a suitable convergence test, like for example the [Gelman-Rubin test](https://bookdown.org/rdpeng/advstatcomp/monitoring-convergence.html), is satisfied. \n",
        "Today we will just set a limit to the total number of steps, but please feel free to implement and test your favourite convergence test!\n",
        "\n",
        "Looking at equation (5), you can convince yourself that\n",
        "$$\n",
        "\\frac{\\mathcal L_a}{\\mathcal L_b} = \\exp\\left(\\frac{\\chi_b^2 - \\chi_a^2}{2}\\right)\n",
        "$$\n",
        "\n",
        "(This is useful because $\\chi^2$ can be large, so we want to avoid the likelihoods evaluating to `0.` -- computers don't like dividing by zero, unfortunately)\n",
        "\n",
        " \n",
        "* <font color=\"deepskyblue\"> Start with an $n$-tuple of parameters $\\theta_{\\rm old} = \\{\\theta_1, \\theta_2, \\dots\\}_{\\rm old}$ (in our case $\\theta = \\{h,\\Omega_m,\\Omega_\\Lambda\\}$) and the corresponding chi squared $\\chi_{\\rm old}^2$ (to be clear, for us this implies calculating a series of 580 integrals and comparing each with the observed values) </font>\n",
        "* <font color=\"deepskyblue\"> Propose new parameters $\\theta_{\\rm prop}$ and calculate the corresponding chi squared $\\chi_{\\rm prop}^2$</font>\n",
        "* <font color=\"deepskyblue\"> Draw a random number $r \\in [0,1]$</font>\n",
        "* <font color=\"deepskyblue\"> Accept the step if \n",
        "$$\n",
        "r < \\exp\\left(\\frac{\\chi_{\\rm old}^2 - \\chi_{\\rm prop}^2}{2}\\right) \\frac{P(\\theta)_{\\rm prop}}{P(\\theta)_{\\rm old}}\n",
        "$$</font>\n",
        "    * <font color=\"deepskyblue\"> If accepted, update $\\theta_{\\rm old} = \\theta_{\\rm prop}$, and record; otherwise, $\\theta_{\\rm new} = \\theta_{\\rm old}$ (no re-recording)</font>\n",
        "    * <font color=\"deepskyblue\">If you want, you can keep a record of the best fit (lowest $\\chi^2$), but this is not the specific purpose of MCMC! We are exploring the parameter space and sampling a _posterior distribution_, not just finding the best fit</font>\n",
        "* <font color=\"deepskyblue\"> Repeat</font>"
      ]
    },
    {
      "cell_type": "code",
      "source": [
        "def chi_2(h, omega_m, omega_L):\n",
        "  for i in range(580):\n",
        "    chi2 = round(sum([(mu(zs[i], h, omega_m, omega_L) - distance_modulus[i])**2 / error_distance_modulus[i]**2]), ndigits = 3)\n",
        "  return chi2\n"
      ],
      "metadata": {
        "id": "uvdi123XAqC-"
      },
      "execution_count": 12,
      "outputs": []
    },
    {
      "cell_type": "code",
      "source": [
        "from random import gauss\n",
        "import random"
      ],
      "metadata": {
        "id": "ejHAg1YqJ-2r"
      },
      "execution_count": 13,
      "outputs": []
    },
    {
      "cell_type": "code",
      "metadata": {
        "scrolled": true,
        "id": "xvF9UhsMXccR",
        "colab": {
          "base_uri": "https://localhost:8080/"
        },
        "outputId": "a37ac44d-f42e-493f-9221-15a254580a32"
      },
      "source": [
        "filename = \"MC_Chain_SNIa.txt\" # Or choose your favourite filename, obviously\n",
        "file = open(filename,\"w\")\n",
        "\n",
        "N_steps = 500\n",
        "step = 0\n",
        "param_list = np.empty((0,5))\n",
        "\n",
        "print('Format: h, Omega_m , Omega_L')\n",
        "\n",
        "# Start from some very bad values, to show that the MCMC works anyway!\n",
        "omega_m_old = 0.0 # \n",
        "omega_L_old = 0.0\n",
        "h_old = 0.1\n",
        "\n",
        "list_omL = []\n",
        "list_omM = []\n",
        "list_h = []\n",
        "\n",
        "parameters_old = (h_old, omega_m_old, omega_L_old)\n",
        "\n",
        "# PUT YOUR MCMC CODE HERE!\n",
        "for i in range(N_steps):\n",
        "\n",
        "  #chi squared value of the current parameters set\n",
        "  chi_old = chi_2(h_old, omega_m_old, omega_L_old)\n",
        "\n",
        "  #recommendation : use stdev ~ 1/100 * \"real value\"\n",
        "\n",
        "  omega_m_new = abs(gauss(omega_m_old, 0.003)) #omega_m needs to be >0 always\n",
        "  omega_L_new = gauss(omega_L_old, 0.007)\n",
        "  h_new = gauss(h_old, 0.006)\n",
        "\n",
        "  parameters_new = (h_new, omega_m_new, omega_L_new)\n",
        "\n",
        "  # print('omega_m_new' , omega_m_new)\n",
        "  # print('omega_L_new', omega_L_new)\n",
        "  # print('h_new', h_new)\n",
        "\n",
        "  chi_new = chi_2(h_new, omega_m_new, omega_L_new)\n",
        "\n",
        "  #Draw a random number  r∈[0,1]\n",
        "  r = np.random.random()\n",
        "  function = np.exp((chi_old-chi_new)/2)*1 #using flat priors. Hence, can be ignored as would correspond to mutliplying by one\n",
        "\n",
        "  # print('r', r)\n",
        "  # print('function', function)\n",
        "\n",
        "  #updating parameters\n",
        "  if r < function: \n",
        "    print('Step' , i, 'at values: ', parameters_new, 'with chi² = ', chi_new)\n",
        "\n",
        "    param = np.array([[i, h_new, omega_m_new, omega_L_new, chi_new]])\n",
        "    param_list = np.append(param_list, param, axis = 0)\n",
        "\n",
        "    list_omL.append(omega_L_new)\n",
        "    list_omM.append(omega_m_new)\n",
        "    list_h.append(h_new)\n",
        "\n",
        "    step += 1\n",
        "\n",
        "  #update parameters\n",
        "    parameters_old = parameters_new\n",
        "    # omega_m_old = omega_m_new \n",
        "    # omega_L_old = omega_L_new\n",
        "    # h_old = h_new\n",
        "    \n",
        "  \n",
        "  # print(param_list)\n",
        "\n",
        "file.close();"
      ],
      "execution_count": 14,
      "outputs": [
        {
          "output_type": "stream",
          "name": "stdout",
          "text": [
            "Format: h, Omega_m , Omega_L\n",
            "Step 1 at values:  (0.10536885245498162, 0.0013067089716613215, 0.001451280071107754) with chi² =  915.271\n",
            "Step 3 at values:  (0.1017463188618641, 0.0009248977085363681, 0.0030592882003167114) with chi² =  934.908\n",
            "Step 7 at values:  (0.10691297707856498, 0.0019325174899185948, 0.003191944389439197) with chi² =  908.577\n",
            "Step 8 at values:  (0.10946561770579916, 0.0010411097499686292, 0.000846803870160837) with chi² =  894.184\n",
            "Step 9 at values:  (0.10741610249342362, 0.0041883109011541875, -0.0007173542921126513) with chi² =  905.697\n",
            "Step 10 at values:  (0.1052874033007808, 0.0014803663310082283, 0.005156443051607771) with chi² =  917.519\n",
            "Step 11 at values:  (0.10307930922824145, 0.0028926727295569914, 0.008878460456140626) with chi² =  931.78\n",
            "Step 14 at values:  (0.10825567693222649, 0.0016195099505800857, -0.01060429027782747) with chi² =  895.347\n",
            "Step 17 at values:  (0.10782253653212114, 0.0016338798333544722, -0.014605676800611653) with chi² =  895.716\n",
            "Step 19 at values:  (0.10071790400040564, 0.0019582569782728176, 0.005910269919025358) with chi² =  942.526\n",
            "Step 20 at values:  (0.10198233246730389, 0.0009128188720692366, -0.0008515070314687504) with chi² =  931.806\n",
            "Step 23 at values:  (0.09907254206138418, 0.0015650928582532403, -0.00815927775399455) with chi² =  944.793\n",
            "Step 25 at values:  (0.10080896745001443, 0.00022857687458229927, 0.006808285996623612) with chi² =  941.303\n",
            "Step 30 at values:  (0.1052901370188398, 0.00544046033902165, -0.0022713483730555876) with chi² =  916.649\n",
            "Step 31 at values:  (0.11524537358791834, 0.0046955745827603965, -0.01543073685716903) with chi² =  861.774\n",
            "Step 38 at values:  (0.11285947292923247, 0.00428957848505433, 0.004790453507261176) with chi² =  881.702\n",
            "Step 39 at values:  (0.10694564097089312, 0.000897522016749738, -0.00628171421186443) with chi² =  903.409\n",
            "Step 40 at values:  (0.09780793494903087, 3.172895124408601e-05, -0.005460840943603483) with chi² =  952.158\n",
            "Step 41 at values:  (0.10134569280591725, 0.004958746985759524, -0.004955400533428414) with chi² =  935.993\n",
            "Step 43 at values:  (0.10116741048086858, 0.0017675893212256873, -0.0019137290337998519) with chi² =  936.284\n",
            "Step 45 at values:  (0.10551042896056162, 0.0003613749119581406, -0.003424566239803258) with chi² =  911.688\n",
            "Step 48 at values:  (0.10318412846425695, 0.0011371800194131135, 0.004014607583422924) with chi² =  927.789\n",
            "Step 49 at values:  (0.10289766948991104, 0.0031265993340429694, 0.002708813924468946) with chi² =  930.012\n",
            "Step 51 at values:  (0.10363028689240748, 0.0014962701571810226, 0.013385307496892368) with chi² =  930.051\n",
            "Step 52 at values:  (0.10334816165583918, 0.0016026786630540736, -0.013931004566570346) with chi² =  918.966\n",
            "Step 53 at values:  (0.10370872010811298, 0.006019949758374015, -0.0003789638914903483) with chi² =  926.169\n",
            "Step 56 at values:  (0.1007277228116559, 0.003595284328661675, -0.0028859231867971605) with chi² =  939.431\n",
            "Step 58 at values:  (0.10375498491446901, 0.003676737251489964, -0.0011896484051599268) with chi² =  924.014\n",
            "Step 61 at values:  (0.10158006759332555, 0.0002510056914379404, 0.008444951052566908) with chi² =  937.886\n",
            "Step 62 at values:  (0.10326681253306043, 0.0019142870900951533, 0.0036463173230005482) with chi² =  927.689\n",
            "Step 63 at values:  (0.10048823466408101, 0.001622092106708069, 0.006056932641764049) with chi² =  943.633\n",
            "Step 75 at values:  (0.10292766545682877, 0.001755334303620993, -0.0033409382729138824) with chi² =  926.145\n",
            "Step 77 at values:  (0.10041595680010149, 0.0008673253518078639, 0.00437304429411211) with chi² =  942.739\n",
            "Step 79 at values:  (0.10395250559347932, 0.00025062524114436883, -0.00011153880326384936) with chi² =  921.239\n",
            "Step 80 at values:  (0.10144186697636944, 0.002781668778132082, 0.012531776489821529) with chi² =  942.25\n",
            "Step 81 at values:  (0.10984505277322246, 0.003991818785717345, 0.00025203404663459136) with chi² =  893.949\n",
            "Step 82 at values:  (0.10293746969022212, 0.004594665678775027, 0.0032108018701234742) with chi² =  931.0\n",
            "Step 83 at values:  (0.11196073165182094, 0.0014812616436530987, 0.0006827804759649546) with chi² =  882.308\n",
            "Step 89 at values:  (0.10413009008042037, 0.0007684672371234817, 0.01067761972630977) with chi² =  925.661\n",
            "Step 91 at values:  (0.1011558485628272, 0.002928155141522555, 0.00046088503826428217) with chi² =  938.217\n",
            "Step 96 at values:  (0.11125855644161792, 0.0014084110996869061, 0.005870932042425479) with chi² =  887.988\n",
            "Step 97 at values:  (0.10752365224018155, 0.0040674006190665295, -0.005371972865495735) with chi² =  902.946\n",
            "Step 98 at values:  (0.09984181283498189, 0.00182405017739315, -0.004184808098253061) with chi² =  942.536\n",
            "Step 99 at values:  (0.1112969889690257, 0.002067046919063571, 0.01033391162539909) with chi² =  890.273\n",
            "Step 101 at values:  (0.10942837091742073, 0.0015480024608246898, 0.01423826295765456) with chi² =  900.855\n",
            "Step 102 at values:  (0.10771949822996149, 0.0028205277250884096, -0.0005636494548995077) with chi² =  903.358\n",
            "Step 103 at values:  (0.1062606359955716, 0.0006494715309171479, -0.0005616692056654615) with chi² =  909.339\n",
            "Step 109 at values:  (0.10445254301082103, 0.003807054309277578, -0.0032020339374760156) with chi² =  919.509\n",
            "Step 110 at values:  (0.10000078814426137, 0.005925602609359333, -0.006601734570454355) with chi² =  943.227\n",
            "Step 111 at values:  (0.11008731633122368, 0.0036899469650874817, 0.011427579787600435) with chi² =  897.709\n",
            "Step 112 at values:  (0.10841343262193166, 0.003245578848702896, 0.00028909088944495653) with chi² =  900.554\n",
            "Step 114 at values:  (0.1002439973166064, 0.0001380686013442026, -0.002370168663958218) with chi² =  940.054\n",
            "Step 116 at values:  (0.09985054546881143, 0.0031904217137455207, -0.006294713780766515) with chi² =  942.403\n",
            "Step 117 at values:  (0.10139804307494167, 0.0007916151186625896, 0.001895106011597298) with chi² =  936.163\n",
            "Step 121 at values:  (0.10447294286079375, 0.0007270752080714368, -0.005094919691704035) with chi² =  916.534\n",
            "Step 122 at values:  (0.10295766740305247, 0.0068567000112665505, 0.010010899243701752) with chi² =  935.595\n",
            "Step 127 at values:  (0.10132474551332572, 0.0004221599158234939, 0.0017543081798351242) with chi² =  936.253\n",
            "Step 133 at values:  (0.10036960849298433, 0.0032494198136340407, -0.0027084460035860475) with chi² =  941.251\n",
            "Step 134 at values:  (0.10739305846308517, 0.0013089624709458174, 0.008686749348378923) with chi² =  908.281\n",
            "Step 135 at values:  (0.11087527285925779, 0.003991726163104955, -0.015207097977802021) with chi² =  881.965\n",
            "Step 138 at values:  (0.1017951005581109, 0.0014342029414901834, -0.002597215386908986) with chi² =  932.347\n",
            "Step 139 at values:  (0.10447364562604568, 0.00325770378073645, -0.003918763046324635) with chi² =  918.711\n",
            "Step 141 at values:  (0.10781006785185618, 0.00021503371507364588, -0.0069077331934562485) with chi² =  898.342\n",
            "Step 142 at values:  (0.10085909550767536, 0.002477329159368619, -0.004941526037773943) with chi² =  937.023\n",
            "Step 143 at values:  (0.11079085074144517, 7.758564962724838e-05, 0.0024444592771496374) with chi² =  887.831\n",
            "Step 147 at values:  (0.10490706441704195, 0.005283207939367991, -0.003552343304156811) with chi² =  917.94\n",
            "Step 148 at values:  (0.10263553245423361, 0.004582044570135783, -0.0019944740789687434) with chi² =  930.175\n",
            "Step 150 at values:  (0.10580200099941033, 0.0015252332813138684, -0.003659252848121331) with chi² =  910.834\n",
            "Step 152 at values:  (0.10071972968688764, 0.0034249321514797145, -0.0016136293305470584) with chi² =  939.957\n",
            "Step 153 at values:  (0.10246519690843282, 0.00038493883622735443, 0.00989908896514943) with chi² =  933.883\n",
            "Step 154 at values:  (0.10231927055909575, 0.005585075210209021, -0.00809834727952168) with chi² =  929.692\n",
            "Step 157 at values:  (0.10088549800616556, 0.0006381504751690467, -0.00423620221936) with chi² =  936.002\n",
            "Step 159 at values:  (0.10328097499754037, 0.004096336350049228, -0.0023384086560945165) with chi² =  926.261\n",
            "Step 162 at values:  (0.10310981671388358, 0.0008123084178170962, 0.00718058628217323) with chi² =  929.448\n",
            "Step 163 at values:  (0.102702729547047, 0.002143214875446165, 0.0022592783637193667) with chi² =  930.196\n",
            "Step 164 at values:  (0.0994095677262825, 0.0031419664209937997, -0.011865384764425389) with chi² =  942.232\n",
            "Step 168 at values:  (0.10814230254278447, 0.0034608942314801375, -0.006830628234104059) with chi² =  898.795\n",
            "Step 170 at values:  (0.10239383163056312, 0.003344969206059612, 0.0011810527591478931) with chi² =  932.137\n",
            "Step 171 at values:  (0.10864137894610794, 0.0025960743307764777, 0.016052960478400276) with chi² =  906.289\n",
            "Step 172 at values:  (0.10247240024391589, 0.005707718678423004, 0.0015058324908752752) with chi² =  933.423\n",
            "Step 174 at values:  (0.1046963557934105, 0.0011441563992338102, -0.013225620144711405) with chi² =  911.937\n",
            "Step 175 at values:  (0.10441164630781624, 0.0022559606906518044, -0.004481085051958194) with chi² =  918.126\n",
            "Step 176 at values:  (0.11182536588654794, 0.0040494266022902585, -0.013347799087949737) with chi² =  878.277\n",
            "Step 177 at values:  (0.10178211744389916, 0.0057838488922423055, -0.0037633679772565987) with chi² =  934.726\n",
            "Step 181 at values:  (0.10781084538681099, 0.000993442986822283, -0.008353712918364908) with chi² =  898.182\n",
            "Step 183 at values:  (0.10226172261334518, 0.0023146682751387913, -0.011329275118942638) with chi² =  926.387\n",
            "Step 185 at values:  (0.10028224143581643, 0.0031105771759525644, -0.006326639986769395) with chi² =  939.955\n",
            "Step 187 at values:  (0.10613363407882283, 0.006866281634282805, -0.004351303058207323) with chi² =  912.275\n",
            "Step 188 at values:  (0.10328928271019527, 0.002898365494338371, -0.0007467421833763553) with chi² =  926.172\n",
            "Step 189 at values:  (0.10362401563780896, 0.002103513306253001, 0.006324144926106433) with chi² =  927.171\n",
            "Step 190 at values:  (0.10072556163732554, 0.000420996466078079, 0.0029550859919771654) with chi² =  940.08\n",
            "Step 191 at values:  (0.10159175421209689, 0.0008607970756557131, 0.011617448738532458) with chi² =  939.722\n",
            "Step 194 at values:  (0.10752088584726784, 0.0018839628456190148, -0.0007228628747545702) with chi² =  903.678\n",
            "Step 195 at values:  (0.10238611322910318, 0.003479371382582429, -0.02060044089934142) with chi² =  922.247\n",
            "Step 196 at values:  (0.10155207669119978, 0.00027805654946081387, -0.0031148430402525165) with chi² =  932.664\n",
            "Step 199 at values:  (0.1010584848954879, 0.005654918528470838, -0.00045762185819540885) with chi² =  940.117\n",
            "Step 200 at values:  (0.10510797526972458, 0.002131948937090973, 0.0022285016006134044) with chi² =  917.517\n",
            "Step 201 at values:  (0.10735455745542438, 0.0015127544663429927, 0.002159657086188994) with chi² =  905.597\n",
            "Step 204 at values:  (0.10227195992442963, 0.0010012434555587665, -0.0005496512626042082) with chi² =  930.447\n",
            "Step 207 at values:  (0.10516511916412366, 0.0038160304357790285, 0.005876723593263988) with chi² =  920.017\n",
            "Step 209 at values:  (0.102967408582859, 0.003553803535471822, -0.0001400292429435667) with chi² =  928.593\n",
            "Step 210 at values:  (0.10493216013819423, 0.001449333342032748, -0.00478728891330954) with chi² =  914.755\n",
            "Step 212 at values:  (0.11058491315068608, 0.0030570139014812437, -0.008041649140120701) with chi² =  885.987\n",
            "Step 214 at values:  (0.10017335730393438, 0.0014837358885453056, -0.003451746104302113) with chi² =  940.824\n",
            "Step 215 at values:  (0.1047878298424805, 0.0031903243248673674, -0.006604877424268158) with chi² =  915.797\n",
            "Step 216 at values:  (0.10351694125682744, 0.0015244414762544426, -0.007134949411752065) with chi² =  921.128\n",
            "Step 217 at values:  (0.11156833158386367, 0.0005891462331961182, -0.0032736919246471752) with chi² =  881.83\n",
            "Step 219 at values:  (0.10182324380965824, 0.0015794413860009615, -0.002972293775215594) with chi² =  932.116\n",
            "Step 223 at values:  (0.10975621655021997, 0.0011974253211012875, 0.010550985215325749) with chi² =  897.306\n",
            "Step 224 at values:  (0.10103218997925462, 0.003355587922644352, -0.012090011736818802) with chi² =  933.348\n",
            "Step 226 at values:  (0.11153337935404153, 0.003249451643307188, 0.008354097559994497) with chi² =  888.989\n",
            "Step 229 at values:  (0.10132912465397519, 0.0008205646298296168, 0.011713890951261763) with chi² =  941.169\n",
            "Step 231 at values:  (0.10129714278056595, 0.0016748773037137627, -0.008492251960828234) with chi² =  932.473\n",
            "Step 233 at values:  (0.10546829811042205, 0.0006170931634799829, -0.0031979837267111038) with chi² =  912.174\n",
            "Step 236 at values:  (0.10687976468552739, 0.0005040317514616384, 0.0019287651654227623) with chi² =  907.238\n",
            "Step 237 at values:  (0.10976041961206938, 0.0017310640525334375, 0.005925308510709889) with chi² =  895.503\n",
            "Step 239 at values:  (0.1036993626827988, 0.004074771440092297, 0.0016694900798482058) with chi² =  925.897\n",
            "Step 244 at values:  (0.10018046043525405, 0.0002110435001796109, -0.0023132394206857422) with chi² =  940.478\n",
            "Step 246 at values:  (0.10411311335506736, 0.000971304786013502, 0.0037042751104076643) with chi² =  922.632\n",
            "Step 248 at values:  (0.10099330178563069, 0.0053189839201956855, -0.00515603964351086) with chi² =  938.054\n",
            "Step 251 at values:  (0.10773933793904278, 0.0029959257278714562, -0.0013386082366156032) with chi² =  903.016\n",
            "Step 252 at values:  (0.1127035064950778, 0.003842650955021862, -0.0041383789730330064) with chi² =  878.106\n",
            "Step 255 at values:  (0.11557812813002878, 0.002875397526184051, -0.00010288270210003043) with chi² =  865.929\n",
            "Step 257 at values:  (0.10313272713916456, 0.00012410618833150384, 0.005295114879408524) with chi² =  927.993\n",
            "Step 259 at values:  (0.10219541910204351, 0.004844449995924298, -0.0024007170125251993) with chi² =  932.517\n",
            "Step 260 at values:  (0.10445610910860148, 0.0012335577001119495, 0.002324196875087432) with chi² =  920.368\n",
            "Step 261 at values:  (0.10762345780026485, 0.00439886912090524, 0.0006982450234664726) with chi² =  905.441\n",
            "Step 263 at values:  (0.10104107298808676, 0.002704191506527894, 0.0020410634996111854) with chi² =  939.435\n",
            "Step 267 at values:  (0.10155948068300363, 0.004555363656642864, -0.001163846386765528) with chi² =  936.336\n",
            "Step 268 at values:  (0.1042550835825061, 0.0035208783628263443, -0.000547282326064771) with chi² =  921.583\n",
            "Step 270 at values:  (0.10500231871857081, 0.0001676697505981151, 0.0013751623325833472) with chi² =  916.392\n",
            "Step 271 at values:  (0.10085085980972992, 0.0014659364676550828, -0.007733565236011863) with chi² =  935.114\n",
            "Step 272 at values:  (0.10440112410597918, 0.004651134004050402, -0.00679395984093144) with chi² =  918.671\n",
            "Step 273 at values:  (0.10005605173634678, 0.00041767099009492356, 0.00014446355379706043) with chi² =  942.445\n",
            "Step 274 at values:  (0.10415432606048006, 0.004111404722311014, -0.0009434203416392295) with chi² =  922.313\n",
            "Step 276 at values:  (0.10450797847290799, 8.520434044028959e-05, -0.0026562444480682673) with chi² =  917.054\n",
            "Step 277 at values:  (0.10466254863006567, 0.0005227446003576644, -0.009689580588034473) with chi² =  913.319\n",
            "Step 278 at values:  (0.10158764583218816, 0.004861491537659155, -0.0054559766865606065) with chi² =  934.385\n",
            "Step 279 at values:  (0.10156135908699654, 0.002868567421062175, -0.00281935485856093) with chi² =  934.447\n",
            "Step 280 at values:  (0.10166518053552051, 0.0005554329300706191, 0.00690707382574415) with chi² =  936.904\n",
            "Step 282 at values:  (0.10631626938465716, 0.004364293925836033, 0.005332502436034531) with chi² =  914.193\n",
            "Step 284 at values:  (0.10327710485506536, 0.0012587173184322503, 0.014470428693219165) with chi² =  932.279\n",
            "Step 286 at values:  (0.10249207875928684, 0.0004670272699604573, 0.0015295889221464845) with chi² =  929.883\n",
            "Step 288 at values:  (0.11286154299231396, 0.002711652453663501, 0.0022382089998969497) with chi² =  879.52\n",
            "Step 292 at values:  (0.10370821494154452, 0.008849632240392043, 0.0009728611746856259) with chi² =  928.664\n",
            "Step 293 at values:  (0.10790365518162284, 8.652237154887853e-05, -0.008212934435581512) with chi² =  897.202\n",
            "Step 295 at values:  (0.11100157366439961, 0.0028120981239410864, 0.0037951167932699687) with chi² =  889.183\n",
            "Step 300 at values:  (0.10274767716169637, 0.003139783615434058, -0.004166272014899711) with chi² =  927.625\n",
            "Step 306 at values:  (0.10451788618987365, 0.0014640562950950626, -0.003265768844253334) with chi² =  917.617\n",
            "Step 312 at values:  (0.10354195634753471, 0.0026930834076483437, -0.003967147163574951) with chi² =  923.212\n",
            "Step 313 at values:  (0.11084938375098838, 0.004969232701408018, -0.0010391058068769219) with chi² =  889.099\n",
            "Step 314 at values:  (0.10075207234303128, 0.0015887557898482288, -0.0024004200875478773) with chi² =  938.206\n",
            "Step 315 at values:  (0.10137424106436496, 0.0007481982654108217, 0.006204505279417011) with chi² =  938.28\n",
            "Step 318 at values:  (0.10461218683170327, 0.0020529830805771612, -0.0007493393483388583) with chi² =  918.667\n",
            "Step 319 at values:  (0.10045546410093822, 0.004530794399648033, 0.006861141845491114) with chi² =  946.128\n",
            "Step 321 at values:  (0.10071742615317811, 0.0030319905699005075, 0.0004266289456445572) with chi² =  940.665\n",
            "Step 322 at values:  (0.10597273290176996, 0.004896017334446071, 0.006274979891891398) with chi² =  916.741\n",
            "Step 325 at values:  (0.10195455321631472, 0.001074825506831546, 0.0007499915837332323) with chi² =  932.806\n",
            "Step 326 at values:  (0.10908868145770875, 0.00027490406828722074, -0.02268652712329595) with chi² =  884.998\n",
            "Step 327 at values:  (0.10415289490788103, 0.0012180059706889746, -0.00048495360418296184) with chi² =  920.645\n",
            "Step 328 at values:  (0.10330078843122031, 0.001311741116850596, 0.006536961161444131) with chi² =  928.461\n",
            "Step 331 at values:  (0.10383549776824223, 0.00227249744473103, 0.008324246296440681) with chi² =  927.102\n",
            "Step 332 at values:  (0.10096377988656893, 0.00545884126258141, 0.0005047377846730514) with chi² =  940.956\n",
            "Step 333 at values:  (0.10059228782350114, 0.002923957289704779, 0.0012365644384492991) with chi² =  941.659\n",
            "Step 334 at values:  (0.10201417293136862, 0.0002946711540106539, 0.0039917871033196455) with chi² =  933.483\n",
            "Step 335 at values:  (0.10860304712170425, 3.028456004837498e-05, 0.0013624433990371751) with chi² =  898.029\n",
            "Step 336 at values:  (0.10209755545189285, 0.006523143592572766, 0.005320695822878277) with chi² =  937.773\n",
            "Step 341 at values:  (0.10467908992771749, 0.002735195871943733, -0.004172664386603638) with chi² =  917.185\n",
            "Step 342 at values:  (0.10774965301032909, 0.003829519141143407, -0.010729692506026801) with chi² =  899.225\n",
            "Step 344 at values:  (0.10587882602397007, 0.0027365951740910325, -0.0034247093671289416) with chi² =  911.331\n",
            "Step 345 at values:  (0.10682526009866786, 0.001507437484305182, -0.008199032108890118) with chi² =  903.539\n",
            "Step 348 at values:  (0.10638487394531133, 0.001644836798210337, 0.00653425799485611) with chi² =  912.623\n",
            "Step 350 at values:  (0.10485621285751123, 0.0026511051694556465, -0.001658376641369187) with chi² =  917.367\n",
            "Step 353 at values:  (0.11195641946875573, 0.002226332402654244, -0.0007977805266397178) with chi² =  882.135\n",
            "Step 355 at values:  (0.1018682045004854, 0.004988050425575544, -0.0004616517945830506) with chi² =  935.279\n",
            "Step 357 at values:  (0.10391761063390804, 0.0020852887749932512, -0.0017539357623044842) with chi² =  921.859\n",
            "Step 359 at values:  (0.1040502128881197, 4.101769542449848e-05, 0.007596565077772257) with chi² =  924.163\n",
            "Step 360 at values:  (0.10063017655658449, 0.0006007155254817347, -0.002780280853382149) with chi² =  938.048\n",
            "Step 361 at values:  (0.10434754965068203, 0.001228519816343201, 0.002747366925723411) with chi² =  921.128\n",
            "Step 362 at values:  (0.09926735297899021, 0.001728159484783, -0.0006774912227462761) with chi² =  947.302\n",
            "Step 367 at values:  (0.10395233002496916, 0.001838363943433331, 6.105451219140813e-05) with chi² =  922.355\n",
            "Step 369 at values:  (0.10378904499368048, 0.0099077108329448, 0.004167347734228309) with chi² =  930.438\n",
            "Step 370 at values:  (0.1024505947760184, 0.0035161692492619244, 0.0014178258261797192) with chi² =  932.055\n",
            "Step 372 at values:  (0.10357636187236234, 0.003572567113515787, -0.0021728479690372093) with chi² =  924.433\n",
            "Step 375 at values:  (0.10364647359245115, 0.0020505358767181838, -0.0028972553088731996) with chi² =  922.736\n",
            "Step 377 at values:  (0.10839687623588792, 0.0008090751484364725, -0.010990405460160921) with chi² =  893.957\n",
            "Step 378 at values:  (0.11151168313865836, 0.0035174110279490908, -0.00374334616855446) with chi² =  883.753\n",
            "Step 379 at values:  (0.09901525806784436, 0.00026749842704510654, -0.013011782911134655) with chi² =  942.023\n",
            "Step 380 at values:  (0.10315384300220035, 0.002555492145764188, 0.004435649672326437) with chi² =  929.079\n",
            "Step 387 at values:  (0.10430391174976973, 0.0022241828210037735, -0.005570626224116225) with chi² =  918.168\n",
            "Step 388 at values:  (0.10192911861870907, 0.0017676429658443956, 0.013009096698082171) with chi² =  939.156\n",
            "Step 391 at values:  (0.10394222258291619, 0.0014409002034787412, 0.004251061899051249) with chi² =  924.092\n",
            "Step 394 at values:  (0.10712586572150758, 0.003338884621765213, 0.00515035662359018) with chi² =  909.318\n",
            "Step 395 at values:  (0.10579424601818241, 0.001164194699952958, 0.01147212491888311) with chi² =  917.634\n",
            "Step 398 at values:  (0.10194889062767643, 0.0017064559624223592, -0.0011008062718971588) with chi² =  932.39\n",
            "Step 402 at values:  (0.10271402499827555, 0.0021901398557472493, 5.0145066491691054e-05) with chi² =  929.139\n",
            "Step 407 at values:  (0.10654611308047808, 0.0013363065277677605, -0.005435080498724475) with chi² =  906.101\n",
            "Step 408 at values:  (0.10799064092361263, 0.0006959735520863863, -0.013339031471207762) with chi² =  894.85\n",
            "Step 409 at values:  (0.10361328063060649, 0.0024519239609126133, 0.005741348926694292) with chi² =  927.185\n",
            "Step 410 at values:  (0.09959320312048982, 0.0035708727018996475, -0.010161040473370912) with chi² =  942.282\n",
            "Step 412 at values:  (0.10134758245671077, 0.0026673047189930653, 0.0031431521105262745) with chi² =  938.258\n",
            "Step 413 at values:  (0.10331278459169158, 0.002704750143373856, -0.0008636057422465817) with chi² =  925.867\n",
            "Step 418 at values:  (0.10363459013460609, 0.0030245308775585515, 0.004423374550043451) with chi² =  926.833\n",
            "Step 420 at values:  (0.10506600282489735, 0.005895289268281421, 0.019800458205122513) with chi² =  928.478\n",
            "Step 421 at values:  (0.10173999364615186, 0.0009828962576641216, 0.0019370691600193923) with chi² =  934.457\n",
            "Step 423 at values:  (0.10144151531988894, 0.0015700312323973736, -0.0009984889936462443) with chi² =  935.091\n",
            "Step 425 at values:  (0.10386392967192187, 0.0017727774033353186, -0.004022153022888823) with chi² =  920.892\n",
            "Step 427 at values:  (0.1009995962555847, 0.0036771178926778363, -0.00037924212652234155) with chi² =  939.17\n",
            "Step 428 at values:  (0.09836072642398215, 0.00014630095758696136, -0.024957969872099545) with chi² =  940.147\n",
            "Step 429 at values:  (0.1083420914965727, 0.004130030130877154, -0.005361946034766848) with chi² =  898.897\n",
            "Step 431 at values:  (0.10016785709629272, 0.001085259815376876, 0.0044523713305607525) with chi² =  944.287\n",
            "Step 434 at values:  (0.10296257743114778, 0.0013823767738850054, -0.00013977534810181037) with chi² =  927.197\n",
            "Step 435 at values:  (0.09995984005419842, 0.0015062743182375304, -0.007047151578581104) with chi² =  940.346\n",
            "Step 436 at values:  (0.10181722290458035, 0.004326942049602905, 0.001971264928575983) with chi² =  936.258\n",
            "Step 437 at values:  (0.10474172380335219, 0.005024338312497926, -0.005361360896640406) with chi² =  917.797\n",
            "Step 438 at values:  (0.10930550522250111, 0.00024278647123179207, -0.013506784529165556) with chi² =  887.989\n",
            "Step 439 at values:  (0.10321100935906283, 0.0003372310280014127, 0.0037011729578486398) with chi² =  926.976\n",
            "Step 441 at values:  (0.10336021379202066, 0.0009649154070725173, -0.0019662672492402086) with chi² =  923.97\n",
            "Step 444 at values:  (0.10246482691436651, 0.0015774599546536736, 0.00588682906504159) with chi² =  932.791\n",
            "Step 445 at values:  (0.1070227115272735, 0.005126680269051003, 0.0036806477576069637) with chi² =  910.326\n",
            "Step 447 at values:  (0.1042802438079144, 0.0017771592027730342, -0.00212904486988182) with chi² =  919.584\n",
            "Step 452 at values:  (0.10381197437879065, 0.00014377180873268437, 0.0027140432321744188) with chi² =  923.215\n",
            "Step 454 at values:  (0.10165375638087909, 0.004630645360454781, -0.0063375539580427485) with chi² =  933.467\n",
            "Step 458 at values:  (0.10844301483620059, 0.001243495014448578, 0.010464895067824952) with chi² =  903.794\n",
            "Step 461 at values:  (0.1025482025778311, 0.0014500177323528846, 0.005675115220030194) with chi² =  932.161\n",
            "Step 463 at values:  (0.10632094614130938, 0.0010684147094995676, -0.004398318811952432) with chi² =  907.548\n",
            "Step 465 at values:  (0.10925204075265482, 0.0032376720624805928, 0.0006480024782395341) with chi² =  896.558\n",
            "Step 466 at values:  (0.10138512055788715, 0.0025686130616002067, -0.003932468251454733) with chi² =  934.688\n",
            "Step 467 at values:  (0.1013386877016435, 0.002274394212384332, -0.00799866195547383) with chi² =  932.866\n",
            "Step 468 at values:  (0.10024526128791864, 0.003768339214468765, -0.0033862762094556305) with chi² =  941.96\n",
            "Step 470 at values:  (0.11351370616285981, 0.002850497720260551, -0.0054076321788845486) with chi² =  873.094\n",
            "Step 472 at values:  (0.10638662313350758, 0.0007076164509528301, -0.0007773532464361689) with chi² =  908.636\n",
            "Step 474 at values:  (0.10838595319157894, 0.0072658320502764625, -0.007800598342191857) with chi² =  899.581\n",
            "Step 475 at values:  (0.10880979395115065, 0.0001954795935187805, -0.007738467112598592) with chi² =  892.985\n",
            "Step 476 at values:  (0.10628200205926033, 0.006202633768441742, 0.006216987384174445) with chi² =  915.984\n",
            "Step 477 at values:  (0.10085956655597177, 0.0013995556368110301, -0.010451702501270917) with chi² =  933.77\n",
            "Step 478 at values:  (0.10242445308678286, 7.82484538725957e-06, 0.009932616175521557) with chi² =  933.868\n",
            "Step 482 at values:  (0.10014953421144314, 0.002620452169402316, -0.0021454382399165397) with chi² =  942.312\n",
            "Step 483 at values:  (0.10041512466681325, 0.00236179735840969, -0.008955593691682914) with chi² =  937.517\n",
            "Step 484 at values:  (0.10912981693627756, 0.00029055930719698873, 0.005842654823524317) with chi² =  897.637\n",
            "Step 485 at values:  (0.10108207327375271, 0.0018312518156284444, 0.0021780032122531013) with chi² =  938.699\n",
            "Step 487 at values:  (0.10610740046500806, 0.0031992471174878347, -0.0003950931524718957) with chi² =  911.852\n",
            "Step 491 at values:  (0.10663796624353337, 0.0028191972370492837, -0.003992181471843811) with chi² =  907.249\n",
            "Step 492 at values:  (0.10025678925959623, 0.0025854637727554773, 0.0018352194321298082) with chi² =  943.561\n",
            "Step 493 at values:  (0.10700247016834602, 0.0012715451257594337, 0.009433491050752033) with chi² =  910.58\n",
            "Step 496 at values:  (0.0991557520317705, 0.004406022099322754, -0.00651895578846128) with chi² =  946.959\n",
            "Step 497 at values:  (0.10133187386070501, 0.0008350777548076902, -0.00031064655035264554) with chi² =  935.524\n",
            "Step 498 at values:  (0.10068697914887462, 0.0016351054168779933, -0.009547714281502242) with chi² =  935.282\n",
            "Step 499 at values:  (0.11213378965975261, 0.0015552828975352738, 0.00019919991692439167) with chi² =  881.312\n"
          ]
        }
      ]
    },
    {
      "cell_type": "markdown",
      "metadata": {
        "id": "qw52S4G0XccR"
      },
      "source": [
        "After completion of the programme, your MC chain will (*hopefully*) look something like this:\n",
        "\n",
        "`#Omega_m  Omega_L  h`\n",
        "\n",
        "`0.297     0.703    0.698`\n",
        "\n",
        "`0.285     0.715    0.701`\n",
        "\n",
        "`0.288     0.712    0.699`\n",
        "\n",
        "`...`"
      ]
    },
    {
      "cell_type": "markdown",
      "metadata": {
        "id": "dB-wD3cLXccR"
      },
      "source": [
        "## <font color='deepskyblue'>Plotting: GetDist</font>\n",
        "\n",
        "We will do the plots with [`GetDist`](https://getdist.readthedocs.io/en/latest/plot_gallery.html).\n",
        "\n",
        "The plot gallery contains a lot of useful examples, you should be able to read them fairly easily and see which applies to your situation. Look for both (triangle) plots and for parameter estimation.\n",
        "\n",
        "Note that many `GetDist` functions require arguments of type `MCSamples`; make sure you convert your lists accordingly.\n",
        "\n",
        "<font color='deepskyblue'>\n",
        "Look at your results. Do you obtain $\\Omega_\\Lambda \\neq 0$? To a high degree of significance? \n",
        "\n",
        "If yes, then my dear friend, you have **DISCOVERED THE ACCELERATED EXPANSION OF THE UNIVERSE AND WON THE NOBEL PRIZE IN PHYSICS 2011!**\n",
        "</font>"
      ]
    },
    {
      "cell_type": "code",
      "metadata": {
        "id": "4JIvURq9XccR",
        "colab": {
          "base_uri": "https://localhost:8080/",
          "height": 714
        },
        "outputId": "670f3196-fa96-4f56-8e84-11b75feba00d"
      },
      "source": [
        "# # These are just randomly generated values. YOU WILL HAVE TO USE THE RESULTS OF YOUR MCMC CHAIN!\n",
        "# h, OmegaM, OmegaL = np.random.normal(0.7, 0.03, N_steps), np.random.normal(0.3, 0.1, N_steps), np.random.normal(0.7, 0.1, N_steps)\n",
        "# Omegak = 1. - OmegaM - OmegaL\n",
        "\n",
        "# Here let's just define variable names, labels, and so on\n",
        "my_labels = [r'h', r'\\Omega_m', r'\\Omega_\\lambda']\n",
        "my_names = ['h', 'Omega_m', 'Omega_lambda']\n",
        "my_dim = 3 # The number of variables we're plotting\n",
        "\n",
        "#get the values\n",
        "value1 = np.array(list_h)\n",
        "value2 = np.array(list_omL)\n",
        "value3 = np.array(list_omM)\n",
        "\n",
        "# my_samples = np.array([param_list]) \n",
        "my_samples = np.array([value1, value2, value3]) # This creates a higher-dimensional array with all our data,\n",
        "my_samples = np.transpose(np.reshape(my_samples,(my_dim,int(my_samples.size/my_dim)))) # and this reshapes it in a convenient form...\n",
        "samples1 = MCSamples(samples = my_samples, labels = my_labels, names = my_names) # ... to create an \"MCSamples\" data type, which GetDist can use\n",
        "\n",
        "conf_level = 0.6827 # The usual 1-sigma confidence level. You can change to 2- or 3-sigma if you want\n",
        "\n",
        "# Let's print a table with the 1D posteriors (confidence levels)\n",
        "for nam in my_names:\n",
        "    print(round(samples1.confidence(nam,(1.-conf_level)/2.,upper=False),2), \\\n",
        "          \" < \", nam , \" < \", round(samples1.confidence(nam,(1.-conf_level)/2.,upper=True),2),\\\n",
        "          \" at \" , int(100*conf_level),\"\\b% CL\")\n",
        "print(\"\\n\\n\")\n",
        "\n",
        "#Triangle corner plot\n",
        "j = plots.getSubplotPlotter(subplot_size=3)\n",
        "j.settings.axes_labelsize = 22\n",
        "j.settings.axes_fontsize = 16\n",
        "j.triangle_plot(samples1, filled = True, title_limit=1)"
      ],
      "execution_count": 15,
      "outputs": [
        {
          "output_type": "stream",
          "name": "stdout",
          "text": [
            "Removed no burn in\n",
            "0.1  <  h  <  0.11  at  68 \b% CL\n",
            "-0.01  <  Omega_m  <  0.01  at  68 \b% CL\n",
            "0.0  <  Omega_lambda  <  0.0  at  68 \b% CL\n",
            "\n",
            "\n",
            "\n"
          ]
        },
        {
          "output_type": "display_data",
          "data": {
            "image/png": "[encoded data removed]",
            "text/plain": [
              "<Figure size 648x648 with 6 Axes>"
            ]
          },
          "metadata": {
            "needs_background": "light"
          }
        }
      ]
    },
    {
      "cell_type": "code",
      "source": [
        "#the graph is definitely not great..."
      ],
      "metadata": {
        "id": "Ytf-7x8w1j9_"
      },
      "execution_count": 16,
      "outputs": []
    },
    {
      "cell_type": "markdown",
      "source": [
        "## <font color='deepskyblue'>Further Improvements</font>\n",
        "\n",
        "There are many ways in which you can improve your code and/or your data visualisation. Some ideas, in random order:\n",
        "\n",
        "* Modify your priors and compare your results. For instance:\n",
        "  * Change to log-flat priors for $h$ and/or $\\Omega_m$, namely displace them in log-space instead of linear space:\n",
        "  $$\n",
        "  \\log(h_{\\rm new}) = \\log(h_{\\rm old}) + \\delta\n",
        "  $$\n",
        "  where $\\delta$ a random variable of mean 0\n",
        "  * Use priors from other cosmological probes, for example the [Planck 2018 results](https://arxiv.org/abs/1807.06209):\n",
        "  $$\n",
        "  \\Omega_m = 0.315 \\pm 0.007\\,,~\\dots\n",
        "  $$\n",
        "* Implement a Gelman-Rubin (or alternative) convergence test\n",
        "* Change colours and other properties of your triangle plot\n",
        "* Re-plot the data with your theoretical fits: you can try both your best fit, and some $1\\sigma$ \"error bars\"\n",
        "* Split your data in redshift bins and repeat the analysis for each bin individually.\n",
        "<br> _(What do you notice? Which redshift bins give us the most accurate detection of the cosmological parameters?)_"
      ],
      "metadata": {
        "id": "OAer6k-yngup"
      }
    }
  ]
}