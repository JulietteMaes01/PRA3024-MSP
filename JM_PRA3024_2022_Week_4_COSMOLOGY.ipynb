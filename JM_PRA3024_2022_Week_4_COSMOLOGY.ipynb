{
  "nbformat": 4,
  "nbformat_minor": 0,
  "metadata": {
    "colab": {
      "name": "JM_PRA3024_2022_Week_4_COSMOLOGY.ipynb",
      "provenance": [],
      "collapsed_sections": []
    },
    "kernelspec": {
      "display_name": "Python 3",
      "language": "python",
      "name": "python3"
    },
    "language_info": {
      "codemirror_mode": {
        "name": "ipython",
        "version": 3
      },
      "file_extension": ".py",
      "mimetype": "text/x-python",
      "name": "python",
      "nbconvert_exporter": "python",
      "pygments_lexer": "ipython3",
      "version": "3.8.10"
    }
  },
  "cells": [
    {
      "cell_type": "markdown",
      "metadata": {
        "id": "TkdruF2bYl5j"
      },
      "source": [
        "# <font color='deepskyblue'>Cosmology MCMC notebook </font>"
      ]
    },
    {
      "cell_type": "markdown",
      "metadata": {
        "id": "t0SazaVif4pl"
      },
      "source": [
        "## <font color='deepskyblue'>Preliminaries</font>"
      ]
    },
    {
      "cell_type": "code",
      "metadata": {
        "colab": {
          "base_uri": "https://localhost:8080/"
        },
        "id": "y6hcXmMbhbMA",
        "scrolled": true,
        "outputId": "3aad53db-61b7-45d0-8f3c-2296f172bc59"
      },
      "source": [
        "# Load and install required packages (if not available on server)\n",
        "!pip install getdist\n",
        "import numpy as np\n",
        "import matplotlib.pyplot as plt\n",
        "import scipy.integrate as integrate\n",
        "import pylab\n",
        "import getdist, IPython\n",
        "from IPython.display import Image\n",
        "from getdist import plots, MCSamples, loadMCSamples"
      ],
      "execution_count": 1,
      "outputs": [
        {
          "output_type": "stream",
          "name": "stdout",
          "text": [
            "Collecting getdist\n",
            "  Downloading GetDist-1.3.4.tar.gz (777 kB)\n",
            "\u001b[?25l\r\u001b[K     |▍                               | 10 kB 21.5 MB/s eta 0:00:01\r\u001b[K     |▉                               | 20 kB 28.6 MB/s eta 0:00:01\r\u001b[K     |█▎                              | 30 kB 33.9 MB/s eta 0:00:01\r\u001b[K     |█▊                              | 40 kB 29.4 MB/s eta 0:00:01\r\u001b[K     |██                              | 51 kB 13.0 MB/s eta 0:00:01\r\u001b[K     |██▌                             | 61 kB 14.1 MB/s eta 0:00:01\r\u001b[K     |███                             | 71 kB 12.5 MB/s eta 0:00:01\r\u001b[K     |███▍                            | 81 kB 13.3 MB/s eta 0:00:01\r\u001b[K     |███▉                            | 92 kB 14.6 MB/s eta 0:00:01\r\u001b[K     |████▏                           | 102 kB 12.6 MB/s eta 0:00:01\r\u001b[K     |████▋                           | 112 kB 12.6 MB/s eta 0:00:01\r\u001b[K     |█████                           | 122 kB 12.6 MB/s eta 0:00:01\r\u001b[K     |█████▌                          | 133 kB 12.6 MB/s eta 0:00:01\r\u001b[K     |██████                          | 143 kB 12.6 MB/s eta 0:00:01\r\u001b[K     |██████▎                         | 153 kB 12.6 MB/s eta 0:00:01\r\u001b[K     |██████▊                         | 163 kB 12.6 MB/s eta 0:00:01\r\u001b[K     |███████▏                        | 174 kB 12.6 MB/s eta 0:00:01\r\u001b[K     |███████▋                        | 184 kB 12.6 MB/s eta 0:00:01\r\u001b[K     |████████                        | 194 kB 12.6 MB/s eta 0:00:01\r\u001b[K     |████████▍                       | 204 kB 12.6 MB/s eta 0:00:01\r\u001b[K     |████████▉                       | 215 kB 12.6 MB/s eta 0:00:01\r\u001b[K     |█████████▎                      | 225 kB 12.6 MB/s eta 0:00:01\r\u001b[K     |█████████▊                      | 235 kB 12.6 MB/s eta 0:00:01\r\u001b[K     |██████████▏                     | 245 kB 12.6 MB/s eta 0:00:01\r\u001b[K     |██████████▌                     | 256 kB 12.6 MB/s eta 0:00:01\r\u001b[K     |███████████                     | 266 kB 12.6 MB/s eta 0:00:01\r\u001b[K     |███████████▍                    | 276 kB 12.6 MB/s eta 0:00:01\r\u001b[K     |███████████▉                    | 286 kB 12.6 MB/s eta 0:00:01\r\u001b[K     |████████████▎                   | 296 kB 12.6 MB/s eta 0:00:01\r\u001b[K     |████████████▋                   | 307 kB 12.6 MB/s eta 0:00:01\r\u001b[K     |█████████████                   | 317 kB 12.6 MB/s eta 0:00:01\r\u001b[K     |█████████████▌                  | 327 kB 12.6 MB/s eta 0:00:01\r\u001b[K     |██████████████                  | 337 kB 12.6 MB/s eta 0:00:01\r\u001b[K     |██████████████▍                 | 348 kB 12.6 MB/s eta 0:00:01\r\u001b[K     |██████████████▊                 | 358 kB 12.6 MB/s eta 0:00:01\r\u001b[K     |███████████████▏                | 368 kB 12.6 MB/s eta 0:00:01\r\u001b[K     |███████████████▋                | 378 kB 12.6 MB/s eta 0:00:01\r\u001b[K     |████████████████                | 389 kB 12.6 MB/s eta 0:00:01\r\u001b[K     |████████████████▍               | 399 kB 12.6 MB/s eta 0:00:01\r\u001b[K     |████████████████▉               | 409 kB 12.6 MB/s eta 0:00:01\r\u001b[K     |█████████████████▎              | 419 kB 12.6 MB/s eta 0:00:01\r\u001b[K     |█████████████████▊              | 430 kB 12.6 MB/s eta 0:00:01\r\u001b[K     |██████████████████▏             | 440 kB 12.6 MB/s eta 0:00:01\r\u001b[K     |██████████████████▌             | 450 kB 12.6 MB/s eta 0:00:01\r\u001b[K     |███████████████████             | 460 kB 12.6 MB/s eta 0:00:01\r\u001b[K     |███████████████████▍            | 471 kB 12.6 MB/s eta 0:00:01\r\u001b[K     |███████████████████▉            | 481 kB 12.6 MB/s eta 0:00:01\r\u001b[K     |████████████████████▎           | 491 kB 12.6 MB/s eta 0:00:01\r\u001b[K     |████████████████████▋           | 501 kB 12.6 MB/s eta 0:00:01\r\u001b[K     |█████████████████████           | 512 kB 12.6 MB/s eta 0:00:01\r\u001b[K     |█████████████████████▌          | 522 kB 12.6 MB/s eta 0:00:01\r\u001b[K     |██████████████████████          | 532 kB 12.6 MB/s eta 0:00:01\r\u001b[K     |██████████████████████▍         | 542 kB 12.6 MB/s eta 0:00:01\r\u001b[K     |██████████████████████▊         | 552 kB 12.6 MB/s eta 0:00:01\r\u001b[K     |███████████████████████▏        | 563 kB 12.6 MB/s eta 0:00:01\r\u001b[K     |███████████████████████▋        | 573 kB 12.6 MB/s eta 0:00:01\r\u001b[K     |████████████████████████        | 583 kB 12.6 MB/s eta 0:00:01\r\u001b[K     |████████████████████████▌       | 593 kB 12.6 MB/s eta 0:00:01\r\u001b[K     |████████████████████████▉       | 604 kB 12.6 MB/s eta 0:00:01\r\u001b[K     |█████████████████████████▎      | 614 kB 12.6 MB/s eta 0:00:01\r\u001b[K     |█████████████████████████▊      | 624 kB 12.6 MB/s eta 0:00:01\r\u001b[K     |██████████████████████████▏     | 634 kB 12.6 MB/s eta 0:00:01\r\u001b[K     |██████████████████████████▋     | 645 kB 12.6 MB/s eta 0:00:01\r\u001b[K     |███████████████████████████     | 655 kB 12.6 MB/s eta 0:00:01\r\u001b[K     |███████████████████████████▍    | 665 kB 12.6 MB/s eta 0:00:01\r\u001b[K     |███████████████████████████▉    | 675 kB 12.6 MB/s eta 0:00:01\r\u001b[K     |████████████████████████████▎   | 686 kB 12.6 MB/s eta 0:00:01\r\u001b[K     |████████████████████████████▊   | 696 kB 12.6 MB/s eta 0:00:01\r\u001b[K     |█████████████████████████████   | 706 kB 12.6 MB/s eta 0:00:01\r\u001b[K     |█████████████████████████████▌  | 716 kB 12.6 MB/s eta 0:00:01\r\u001b[K     |██████████████████████████████  | 727 kB 12.6 MB/s eta 0:00:01\r\u001b[K     |██████████████████████████████▍ | 737 kB 12.6 MB/s eta 0:00:01\r\u001b[K     |██████████████████████████████▊ | 747 kB 12.6 MB/s eta 0:00:01\r\u001b[K     |███████████████████████████████▏| 757 kB 12.6 MB/s eta 0:00:01\r\u001b[K     |███████████████████████████████▋| 768 kB 12.6 MB/s eta 0:00:01\r\u001b[K     |████████████████████████████████| 777 kB 12.6 MB/s \n",
            "\u001b[?25hRequirement already satisfied: numpy>=1.17.0 in /usr/local/lib/python3.7/dist-packages (from getdist) (1.21.5)\n",
            "Requirement already satisfied: matplotlib!=3.5.0,>=2.2.0 in /usr/local/lib/python3.7/dist-packages (from getdist) (3.2.2)\n",
            "Collecting scipy>=1.5.0\n",
            "  Downloading scipy-1.7.3-cp37-cp37m-manylinux_2_12_x86_64.manylinux2010_x86_64.whl (38.1 MB)\n",
            "\u001b[K     |████████████████████████████████| 38.1 MB 1.3 MB/s \n",
            "\u001b[?25hCollecting PyYAML>=5.1\n",
            "  Downloading PyYAML-6.0-cp37-cp37m-manylinux_2_5_x86_64.manylinux1_x86_64.manylinux_2_12_x86_64.manylinux2010_x86_64.whl (596 kB)\n",
            "\u001b[K     |████████████████████████████████| 596 kB 48.3 MB/s \n",
            "\u001b[?25hRequirement already satisfied: cycler>=0.10 in /usr/local/lib/python3.7/dist-packages (from matplotlib!=3.5.0,>=2.2.0->getdist) (0.11.0)\n",
            "Requirement already satisfied: pyparsing!=2.0.4,!=2.1.2,!=2.1.6,>=2.0.1 in /usr/local/lib/python3.7/dist-packages (from matplotlib!=3.5.0,>=2.2.0->getdist) (3.0.7)\n",
            "Requirement already satisfied: python-dateutil>=2.1 in /usr/local/lib/python3.7/dist-packages (from matplotlib!=3.5.0,>=2.2.0->getdist) (2.8.2)\n",
            "Requirement already satisfied: kiwisolver>=1.0.1 in /usr/local/lib/python3.7/dist-packages (from matplotlib!=3.5.0,>=2.2.0->getdist) (1.3.2)\n",
            "Requirement already satisfied: six>=1.5 in /usr/local/lib/python3.7/dist-packages (from python-dateutil>=2.1->matplotlib!=3.5.0,>=2.2.0->getdist) (1.15.0)\n",
            "Building wheels for collected packages: getdist\n",
            "  Building wheel for getdist (setup.py) ... \u001b[?25l\u001b[?25hdone\n",
            "  Created wheel for getdist: filename=GetDist-1.3.4-py3-none-any.whl size=226496 sha256=ff7473e38f2cc228c4f0f32e22c81784f88fba1538dda905e23ac568ef0a5916\n",
            "  Stored in directory: /root/.cache/pip/wheels/b4/f0/9d/b16a7e7cb4bc8467e9d2c1b0fbd734e50622562f69a2a41edd\n",
            "Successfully built getdist\n",
            "Installing collected packages: scipy, PyYAML, getdist\n",
            "  Attempting uninstall: scipy\n",
            "    Found existing installation: scipy 1.4.1\n",
            "    Uninstalling scipy-1.4.1:\n",
            "      Successfully uninstalled scipy-1.4.1\n",
            "  Attempting uninstall: PyYAML\n",
            "    Found existing installation: PyYAML 3.13\n",
            "    Uninstalling PyYAML-3.13:\n",
            "      Successfully uninstalled PyYAML-3.13\n",
            "\u001b[31mERROR: pip's dependency resolver does not currently take into account all the packages that are installed. This behaviour is the source of the following dependency conflicts.\n",
            "albumentations 0.1.12 requires imgaug<0.2.7,>=0.2.5, but you have imgaug 0.2.9 which is incompatible.\u001b[0m\n",
            "Successfully installed PyYAML-6.0 getdist-1.3.4 scipy-1.7.3\n"
          ]
        }
      ]
    },
    {
      "cell_type": "markdown",
      "metadata": {
        "id": "ayxOF90lVqKY"
      },
      "source": [
        "\n",
        "<font color='tomato'>\n",
        "(NB: The equations you'll directly need to build your code are those $\\boxed{\\text{with a box around}}$)\n",
        "</font>\n",
        "\n",
        "## <font color='deepskyblue'>The $\\Lambda$CDM Model</font>\n",
        "\n",
        "The Lambda-Cold-Dark-Matter ($\\Lambda$CDM) Model is our concordance cosmological model. It postulates a Universe that behaves according to **General Relativity**, filled with **baryons** (protons, neutrons - the stuff we and stars are made of!), **Cold Dark Matter (CDM)** and a **Cosmological Constant** $\\Lambda$.\n",
        "\n",
        "The expansion of the Universe is best described in terms of the **scale factor** $a$ (the \"radius\" of the Universe, conventionally set to 1 today) and the **Hubble rate** $H$\n",
        "\n",
        "$$\n",
        "H \\equiv \\frac{\\dot a}{a}\n",
        "$$\n",
        "\n",
        "The Einstein Equations in a **homogeneous, isotropic** Universe have an especially simple form and a special name, **Friedmann Equation**:\n",
        "\n",
        "$$\n",
        "H^2 = \\frac{8\\pi G}{3}\\rho + \\frac{k}{a^2}\n",
        "$$\n",
        "\n",
        "where $\\rho$ is the total energy density of the Universe (at a certain time or size), and $k$ is a universal constant related to the [spatial curvature and shape of the Universe](https://en.wikipedia.org/wiki/Shape_of_the_universe#:~:text=The%20spatial%20curvature%20is%20related,indistinguishable%20spaces%20with%20different%20topologies.). In the $\\Lambda$CDM model (and at late enough times), this additionally simplifies to\n",
        "\n",
        "$$\n",
        "\\boxed{\n",
        "H^2 = H_0^2\\left(\\Omega_\\Lambda + \\Omega_m a^{-3} + \\Omega_k a^{-2}\\right)\n",
        "}\n",
        "\\qquad\n",
        "\\qquad\n",
        "\\boxed{\n",
        "\\Omega_m + \\Omega_\\Lambda + \\Omega_k = 1\n",
        "}\n",
        "\\tag{1}\n",
        "$$\n",
        "\n",
        "$H_0$ is the value of the Hubble rate *today*, and the parameters $\\Omega_m$, $\\Omega_\\Lambda$ and $\\Omega_k$ are dimensionless quantities indicating how much of the present expansion of the Universe is due to (non-relativistic) matter, cosmological constant $\\Lambda$, and spatial curvature $k$. Note that the three $\\Omega$'s are *not independent* (their sum is 1) and that we grouped together the contribution of baryons and CDM,\n",
        "\n",
        "$$\n",
        "\\Omega_m = \\Omega_{\\rm CDM} + \\Omega_{\\rm b}\n",
        "$$\n",
        "\n",
        "and that we have evidence that independent evidence that $\\Omega_b \\approx 5$\\%. Note that only $\\Omega_m \\geq 0$ makes physical sense, while in principle both $\\Omega_\\Lambda$ and $\\Omega_k$ can be negative.\n",
        "\n",
        "The present Hubble rate is conventionally parametrised in terms of the dimensionless $h$:\n",
        "\n",
        "$$\n",
        "\\boxed{H_0 \\equiv h\\,\\frac{100 \\,\\text{km}}{\\text{s Mpc}}}\n",
        "\\tag{2}\n",
        "$$\n",
        "\n",
        "where Mpc = Megaparsec and [parsec](https://en.wikipedia.org/wiki/Parsec) equals to about $3.26$ light years or $3.086 \\cdot 10^{16}$ m. \n",
        "\n",
        "In essence, these equations give us the relation between *what exists in the Universe* and *how the Universe expanded*. Measure one, I can tell you the other. This is precisely what we aim to do!\n",
        "\n",
        "Time to define the function $H(z)$. Don't forget to include the useful parameters as arguments of the function, and to define `parsec`."
      ]
    },
    {
      "cell_type": "code",
      "metadata": {
        "id": "CFIYCrH2XccJ"
      },
      "source": [
        "# # Hubble rate: look at equations (1) and (2) for the definition!\n",
        "# def Hubble(): # Hubble(arg0, arg1, arg2, etc...)\n",
        "#     return 1. # <--- YOUR CODE GOES HERE!"
      ],
      "execution_count": 2,
      "outputs": []
    },
    {
      "cell_type": "code",
      "source": [
        "parsec = 3.086*10**(16)\n",
        "megaparsec = parsec*10**6\n",
        "\n",
        "print(megaparsec)"
      ],
      "metadata": {
        "colab": {
          "base_uri": "https://localhost:8080/"
        },
        "id": "AbyIVuKruSu9",
        "outputId": "53fedfff-40c3-450f-d95a-e586a3f9e768"
      },
      "execution_count": 3,
      "outputs": [
        {
          "output_type": "stream",
          "name": "stdout",
          "text": [
            "3.086e+22\n"
          ]
        }
      ]
    },
    {
      "cell_type": "code",
      "source": [
        "def omega_K(omega_L, omega_m):\n",
        "  \n",
        "  omega_K = 1 - (omega_L + omega_m)\n",
        "  return omega_K "
      ],
      "metadata": {
        "id": "-LKDYGHbxwYx"
      },
      "execution_count": 4,
      "outputs": []
    },
    {
      "cell_type": "code",
      "source": [
        "def h0(h):\n",
        "  H0 = h*(100*10**3/megaparsec)\n",
        "  return H0\n"
      ],
      "metadata": {
        "id": "UPPGMEZZyrN8"
      },
      "execution_count": 5,
      "outputs": []
    },
    {
      "cell_type": "code",
      "source": [
        "def Hubble(h, omega_L, omega_m, z): \n",
        "  # omega_k = 1 - (omega_L + omega_m)\n",
        "  # H0 = h*(100*10**3/megaparsec)\n",
        "  H0 = h0(h)\n",
        "  omega_k = omega_K(omega_L, omega_m)\n",
        "  H = H0*np.sqrt(omega_L + omega_m*(1+z)**(3) + omega_k*(1+z)**(2))\n",
        "  return H"
      ],
      "metadata": {
        "id": "eJryD5Dyr-Nc"
      },
      "execution_count": 6,
      "outputs": []
    },
    {
      "cell_type": "markdown",
      "metadata": {
        "id": "NNm-m0auXccK"
      },
      "source": [
        "## <font color='deepskyblue'>Supernovae Ia</font>\n",
        "\n",
        "In order to track the expansion of the Universe, we will look at Supernovae type Ia observations. SNIa are formed when a *white dwarf* accretes matter from a companion until it reaches a critical mass of about $1.44 M_\\odot$ (solar masses), after which it explodes **at always the same luminosity** $L_{\\rm SN}$. Therefore, the observed [magnitude](https://en.wikipedia.org/wiki/Magnitude_(astronomy)) is only a function of their [**luminosity distance**](https://en.wikipedia.org/wiki/Distance_measures_(cosmology)) from Earth, defined as the ratio of the intrinsic luminosity $L_{\\rm SNIa}$ and the measured *surface brightness* $\\Phi$ (energy per unit time per unit area)\n",
        "\n",
        "$$ d_L\\equiv \\frac{L_{\\rm SN}}{4\\pi \\Phi} $$\n",
        "\n",
        "While photons (light rays) travel from the distant SNIa to Earth, the Universe expands and the photons get redshifted, and this redshift is directly related to the size of the Universe when the photon was emitted compared to today:\n",
        "\n",
        "$$ \\frac{\\lambda_{\\rm obs}}{\\lambda_{\\rm em}} \\equiv 1 + z_{\\rm em} = \\frac{1}{a_{\\rm em}}$$\n",
        "\n",
        "We can express the luminosity distance in terms of the Hubble rate:\n",
        "\n",
        "$$\n",
        "\\boxed{\n",
        "d_L(z) = \\frac{c}{H_0}(1+z) \\times \n",
        "\\begin{cases}\n",
        "    \\cfrac{1}{\\sqrt{\\Omega_k}} \\,\\sinh\\left(\\sqrt{\\Omega_k}\\,D(z)\\right) & \\Omega_k > 0\n",
        "    \\\\[.5em]\n",
        "    D(z) & \\Omega_k = 0\n",
        "    \\\\[.5em]\n",
        "    \\cfrac{1}{\\sqrt{-\\Omega_k}} \\,\\sin\\left(\\sqrt{-\\Omega_k}\\,D(z)\\right) & \\Omega_k < 0\n",
        "\\end{cases}\n",
        "\\qquad\\qquad\n",
        "D(z) \\equiv H_0\\int_0^z \\frac{{\\rm d}Z}{H(Z)}\n",
        "}\n",
        "\\tag{3}\n",
        "$$\n",
        "\n",
        "where $c$ is the speed of light: $c \\simeq 2.998 \\cdot 10^{5}$ km/s.\n",
        "\n",
        "Clearly, there exists a relation between $d_L(z)$ and $H(z)$, so the luminosity distance is a useful measure of the Universe expansion history. \n",
        "In practice, however, the actual observable for [Supernovae Type Ia](https://en.wikipedia.org/wiki/Type_Ia_supernova) (or SNIa) is the [distance modulus](https://en.wikipedia.org/wiki/Distance_modulus) $\\mu$, defined as the difference between the *apparent magnitude* $m$ and the *absolute magnitude* $M$:\n",
        "\n",
        "$$\n",
        "\\boxed{\n",
        "\\mu(z) \\equiv m(z) - M \\equiv 5 \\log_{10} \\frac{d_L(z)}{10\\,\\text{pc}}\n",
        "}\n",
        "\\tag{4}\n",
        "$$\n",
        "\n",
        "We can create the function `dL(z, h, Omega_m, Omega_Lambda)`. You can also pass the function `Hubble` as an argument: `dL(z, Hubble, Omega_m, Omega_Lambda)`. Additionally, you can create $D(z)$ for your convenience.\n",
        "\n",
        "Note that you need to integrate the function $H(z)$, so write your own quick-and-easy numerical integrator, for example implementing the [trapezoidal rule](https://en.wikipedia.org/wiki/Trapezoidal_rule) or your favourite alternative, or [look up the pre-written methods](https://docs.scipy.org/doc/scipy/reference/tutorial/integrate.html). Make sure it returns $d_L$ in parsecs and that it uses $H_0$ measured in units of 100 km/s/Mpc (which we called $h$)."
      ]
    },
    {
      "cell_type": "code",
      "metadata": {
        "id": "QAwegy3UXccK"
      },
      "source": [
        "# SPEED_OF_LIGHT \n",
        "c = 2.998*10**8 # <--- Choose your favourite units, but make sure you're consistent!\n",
        "\n",
        "#Integreation for Dz\n",
        "def Dz(h,omega_L, omega_m, low_b, high_b):\n",
        "  H0 = h0(h)\n",
        "  \n",
        "  Dz = H0*integrate.quad(lambda z: 1/(Hubble(h, omega_L, omega_m, z)), low_b, high_b)[0] #add [0] to nto show the error\n",
        "  return Dz\n",
        "\n",
        "# luminosity distance\n",
        "def dL(z, h, omega_m, omega_L): \n",
        "  H0 = h0(h)\n",
        "  omega_k = omega_K(omega_L, omega_m)\n",
        "\n",
        "  if omega_k > 0:\n",
        "    dL = (c/H0)*(1+z) * 1/(np.sqrt(omega_k)*np.sinh(np.sqrt(omega_k)*Dz(h, omega_L, omega_m, 0, z)))\n",
        "  elif omega_k == 0: \n",
        "    dL = (c/H0)*(1+z) * Dz(h,omega_L, omega_m, 0, z)\n",
        "  elif omega_k < 0:\n",
        "    dL = (c/H0)*(1+z) * 1/(np.sqrt(-omega_k)*np.sin(np.sqrt(-omega_k)*Dz(h, omega_L, omega_m, 0, z)))\n",
        "  return dL/parsec\n",
        "\n",
        "# distance modulus\n",
        "def mu(z, h, omega_m, omega_L):\n",
        "  mu = 5*np.log10(dL(z, h, omega_m, omega_L)/10)\n",
        "  return mu\n"
      ],
      "execution_count": 7,
      "outputs": []
    },
    {
      "cell_type": "markdown",
      "metadata": {
        "id": "SLWjCnSSXccL"
      },
      "source": [
        "## <font color='deepskyblue'>The Union2.1 Compilation</font>\n",
        "\n",
        "Our source of data is from [Union2.1](http://supernova.lbl.gov/Union/). It is a collection of $580$ SNIa, each observation is comprised of redshift $z$ \n",
        "Our goal today is to use SNIa measurements to constrain the parameters ($h, \\Omega_\\Lambda, \\Omega_m$).\n",
        "\n",
        "In essence, we can calculate for each redshift the theoretical value of $\\mu$ using this equation with the expression for $d_L(z)$ and our model of choice $H(z)$ -- note that we will need to perform a numerical integral! -- and compare this value with observations. A different model would amount to changing the theoretical value of $H(z)$.\n",
        "\n",
        "Let us start by importing and plotting the data:"
      ]
    },
    {
      "cell_type": "code",
      "metadata": {
        "colab": {
          "base_uri": "https://localhost:8080/"
        },
        "id": "sKb3QGqXTuJ5",
        "outputId": "1fba252c-c8c0-4f3d-d807-ea7572e88fb6"
      },
      "source": [
        "dataloc = \"http://supernova.lbl.gov/Union/figures/SCPUnion2.1_mu_vs_z.txt\"\n",
        "\n",
        "# Read in data as numpy array.\n",
        "# Format is [name, redshift, magnitude, magnitude error, and another number?]\n",
        "data = np.genfromtxt(dataloc)\n",
        "\n",
        "# Print the first line as an example. (Note that genfromtxt turns the names into 'Not A Number')\n",
        "print(data[0])"
      ],
      "execution_count": 8,
      "outputs": [
        {
          "output_type": "stream",
          "name": "stdout",
          "text": [
            "[           nan 2.84880000e-02 3.53465834e+01 2.23905933e-01\n",
            " 1.28418942e-01]\n"
          ]
        }
      ]
    },
    {
      "cell_type": "code",
      "metadata": {
        "id": "2mvAA83gVIHz"
      },
      "source": [
        "# Extract the redshifts (zs), distance modulus (dist_mod) and magnitude estimated errors (err_dist_mod)\n",
        "zs = data.T[1] # redshift\n",
        "distance_modulus = data.T[2] # distance modulus\n",
        "error_distance_modulus = data.T[3] # errors on distance modulus"
      ],
      "execution_count": 9,
      "outputs": []
    },
    {
      "cell_type": "code",
      "metadata": {
        "id": "x2hF3drbVPEW"
      },
      "source": [
        "# Let's look at the data, just for fun. \n",
        "# We can look both at the raw data (distance modulus) or calculate the luminosity distance\n",
        "# Note that Numpy allows us to manipulate whole arrays at once with something like:\n",
        "#     array_2 = some_function_of(array_1)\n",
        "\n",
        "# luminosity distance in pc\n",
        "luminosity_distance_pc = 10. * 10.**(distance_modulus / 5.)\n",
        "\n",
        "# and in Mpc\n",
        "luminosity_distance_Mpc = luminosity_distance_pc / 10.**6\n",
        "\n",
        "# and the error on that distance:\n",
        "error_luminosity_distance_Mpc = 5. * (10.**((distance_modulus + error_distance_modulus)/5.-6.) - 10.**((distance_modulus - error_distance_modulus)/5.-6.))"
      ],
      "execution_count": 10,
      "outputs": []
    },
    {
      "cell_type": "code",
      "metadata": {
        "colab": {
          "base_uri": "https://localhost:8080/",
          "height": 334
        },
        "id": "o81D-kOYYwx5",
        "outputId": "3fef1dd1-f73d-4337-af98-9a102e3d096c"
      },
      "source": [
        "plt.subplots(1, 2, figsize=(15, 5))\n",
        "\n",
        "# Plot distance modulus versus redshift (original data)\n",
        "plt.subplot(1, 2, 1)\n",
        "plt.xlabel(\"Redshift\")\n",
        "plt.ylabel(\"Distance Modulus\")\n",
        "plt.errorbar(zs, distance_modulus, yerr=error_distance_modulus, fmt='o', color='black', ecolor='darkcyan', markersize=4)\n",
        "\n",
        "# Plot luminosity distance versus redshift\n",
        "plt.subplot(1, 2, 2)\n",
        "plt.xlabel(\"Redshift\")\n",
        "plt.ylabel(\"Luminosity Distance [Mpc]\")\n",
        "plt.errorbar(zs, luminosity_distance_Mpc, yerr=error_luminosity_distance_Mpc, fmt='o', color='black', ecolor='darkcyan', markersize=4)\n",
        "plt.show()"
      ],
      "execution_count": 11,
      "outputs": [
        {
          "output_type": "display_data",
          "data": {
            "image/png": "[encoded data removed]",
            "text/plain": [
              "<Figure size 1080x360 with 2 Axes>"
            ]
          },
          "metadata": {
            "needs_background": "light"
          }
        }
      ]
    },
    {
      "cell_type": "markdown",
      "metadata": {
        "id": "Hxy2SP9SXccN"
      },
      "source": [
        "## <font color='deepskyblue'>Bayes' Theorem: Likelihood, Prior, Posterior (and Evidence...)</font>\n",
        "\n",
        "The **conditional probability of A given that B is true** is denoted with $P(A|B)$ (read: *probability of A given B*). \n",
        "Did A happen? Then B has probability $P(B|A)$ of happening.\n",
        "\n",
        "[**Bayes' Theorem**](https://en.wikipedia.org/wiki/Bayes%27_theorem) is simply a reflection of the symmetry of the concept of joint probability:\n",
        "\n",
        "$$\n",
        "P(A|B)P(B) = P(B|A)P(A)\n",
        "$$\n",
        "\n",
        "In physics, our goal is often to determine how likely the values of some parameters $\\theta$ are, given how well they reproduce the data $D$. \n",
        "We write Bayes' theorem in the following equivalent form:\n",
        "\n",
        "$$\n",
        "P(\\theta | D) = \\frac{P(D|\\theta)P(\\theta)}{P(D)}\n",
        "$$\n",
        "\n",
        "The various terms conventionally take the names:\n",
        "\n",
        "$$\n",
        "\\begin{aligned}\n",
        "P(\\theta | D) & && \\text{Posterior}\n",
        "\\\\\n",
        "P(D | \\theta)& && \\text{Likelihood}\n",
        "\\\\\n",
        "P(\\theta) & && \\text{Prior}\n",
        "\\\\\n",
        "P(D) & && \\text{Evidence}\n",
        "\\end{aligned}\n",
        "$$\n",
        "\n",
        "### <font color='deepskyblue'>Prior</font>\n",
        "\n",
        "The *prior* quantifies our degree of prior belief in the model parameters. It can contain the results of previous experiments, or theoretical considerations (for instance, that certain parameters cannot be negative, etc.). \n",
        "\n",
        "We can have *strong priors* about something - the Sun still existing at night, see the comic below - or not.\n",
        "When we do *not* have compelling prior knowledge about a parameter, we generally use a *non-informative* prior probability distribution, most often related to the [uniform distribution](https://en.wikipedia.org/wiki/Continuous_uniform_distribution)\n",
        "\n",
        "$$\n",
        "\\begin{aligned}\n",
        "    \\text{Uniform} & && \\theta \\in \\text{Uniform}[\\theta_{\\rm min}, \\theta_{\\rm max}]\n",
        "    \\\\\n",
        "    \\text{Log Uniform} & && \\log\\theta \\in \\text{Uniform}[\\log\\theta_{\\rm min}, \\log\\theta_{\\rm max}]\n",
        "\\end{aligned}\n",
        "$$\n",
        "\n",
        "You may sometimes hear that \"the prior doesn't matter\". While this is not strictly true, it is however true that in many instances the *likelihood* depends more dramatically on the parameters and will have a dominating contribution to the posterior. You are more than welcome to try different priors for the model parameters and see if and how your results change.\n",
        "\n",
        "### <font color='deepskyblue'>Likelihood</font>\n",
        "\n",
        "The measure of how well our model reproduces the data is the **likelihood** $\\mathcal L$. For normal (=Gaussian), uncorrelated data $\\mu_i$ with errors $\\sigma_i$ ($i = \\{1,580\\}$), the likelihood is related to the famous [**chi-squared**](https://en.wikipedia.org/wiki/Chi-square_distribution) via\n",
        "\n",
        "$$\n",
        "P(D | \\theta) \\equiv \\mathcal L = \\exp\\left(-\\frac{\\chi^2}{2}\\right)\n",
        "\\qquad\n",
        "\\qquad\n",
        "\\boxed{\n",
        "\\chi^2 \\equiv \\sum_{i=1}^{580} \\frac{\\left(\\mu_i^{(\\rm theor)} - \\mu_i^{(\\rm obs)}\\right)^2}{\\sigma_i^2}\n",
        "}\n",
        "\\tag{5}\n",
        "$$\n",
        "\n",
        "A *high likelihood* corresponds to a *low chi squared*.\n",
        "\n",
        "In principle, we could attack the problem brute-force: create a grid of values for $h$, $\\Omega_m$, $\\Omega_\\Lambda$, calculate the likelihood for each combination, and create a profile for the likelihood. \n",
        "\n",
        "In practical cases, however, this is not only sub-optimal but sometimes **impossible**. Think of complicated models with 20+ free parameters (this is not that unusual in physics, by the way). Even a very coarse grained grid of 100 values for each parameter would result in more than $10^{40}$ (!!!) different parameter combination to be tested. You can probably understand why this is undesirable.\n",
        "\n",
        "### <font color='deepskyblue'>Evidence</font>\n",
        "\n",
        "This is the tricky bit. The evidence, which is \"*the probability of observing certain data*\", is not something that is easy to evaluate or interpret. This looks like a serious limitation to finding the:\n",
        "\n",
        "\n",
        "### <font color='deepskyblue'>Posterior</font>\n",
        "\n",
        "What does the data tell us about the model parameters? The answer is the *posterior probability distribution*, often (but not necessarily) expressed as (average $\\pm$ standard deviation)\n",
        "\n",
        "$$\n",
        "\\theta_i = \\bar\\theta_i \\pm \\sigma_i\n",
        "$$\n",
        "\n",
        "In other words, the posterior tells us how likely it is for the model parameters to have certain values, *given that we observe the data* $D$.\n",
        "\n",
        "*This is the final goal of our analysis!*\n",
        "\n",
        "<br>\n",
        "\n",
        "![title](http://1.bp.blogspot.com/-tTx4HDejSww/ULcTeK9_V_I/AAAAAAAAA8g/PCYOH-eXGbk/s1600/frequentists_vs_bayesians.png)\n",
        "![title](https://i.redd.it/5r0hwixt0m931.jpg)"
      ]
    },
    {
      "cell_type": "markdown",
      "metadata": {
        "id": "lymI_LaObhcU"
      },
      "source": [
        "## <font color='deepskyblue'>Markov-Chain Monte Carlo</font>\n",
        "\n",
        "Markov-Chain Monte Carlo techniques are a class of methods to sample a probability distribution $P(x)$ - in our case $P(\\theta | D)$ - provided that we can calculate a density $\\mathcal F(x)$ **that is proportional to it** - in our case $P(\\theta)P(D|\\theta)$ = likelihood $\\times$ prior. Among these, a very popular one is the [**Metropolis-Hastings**](https://en.wikipedia.org/wiki/Metropolis%E2%80%93Hastings_algorithm) algorithm, which is what we will use.\n",
        "\n",
        "Schematically, the algorithm works as follows:\n",
        "* Start with an $n$-tuple of parameters $\\theta_{\\rm old} = \\{\\theta_1, \\theta_2, \\dots\\}_{\\rm old}$ (in our case $\\theta = \\{h,\\Omega_m,\\Omega_\\Lambda\\}$) and calculate the $\\mathcal F_{\\rm old}$\n",
        "* Propose a new set of parameters $\\theta_{\\rm prop}$, calculate the new corresponding $\\mathcal F_{\\rm prop}$. How you propose the new parameters is not essential as long as the probability of going from one set of parameters to the next is the same as the inverse: $P(\\theta_a \\to \\theta_b) = P(\\theta_b \\to \\theta_a)$. For this, we normally take Gaussian displacements with some (relatively small) standard deviation.\n",
        "* Compare the new and old likelihoods-priors:\n",
        "    * If $\\mathcal F_{\\rm prop} > \\mathcal F_{\\rm old}$, accept the step: $\\theta_{\\rm new} = \\theta_{\\rm prop}$\n",
        "    * Otherwise, accept with probability $P_{\\rm accept} = \\mathcal F_{\\rm prop}/\\mathcal F_{\\rm old}$\n",
        "* If accepted, $\\theta_{\\rm new} = \\theta_{\\rm prop}$ and record the step; otherwise, $\\theta_{\\rm new} = \\theta_{\\rm old}$ (no re-recording)\n",
        "* Update $\\theta_{\\rm old} = \\theta_{\\rm new}$\n",
        "* Repeat\n",
        "\n",
        "The MC chain keeps going until the desired number of steps or, ideally, when a suitable convergence test, like for example the [Gelman-Rubin test](https://bookdown.org/rdpeng/advstatcomp/monitoring-convergence.html), is satisfied. \n",
        "Today we will just set a limit to the total number of steps, but please feel free to implement and test your favourite convergence test!\n",
        "\n",
        "Looking at equation (5), you can convince yourself that\n",
        "$$\n",
        "\\frac{\\mathcal L_a}{\\mathcal L_b} = \\exp\\left(\\frac{\\chi_b^2 - \\chi_a^2}{2}\\right)\n",
        "$$\n",
        "\n",
        "(This is useful because $\\chi^2$ can be large, so we want to avoid the likelihoods evaluating to `0.` -- computers don't like dividing by zero, unfortunately)\n",
        "\n",
        " \n",
        "* <font color=\"deepskyblue\"> Start with an $n$-tuple of parameters $\\theta_{\\rm old} = \\{\\theta_1, \\theta_2, \\dots\\}_{\\rm old}$ (in our case $\\theta = \\{h,\\Omega_m,\\Omega_\\Lambda\\}$) and the corresponding chi squared $\\chi_{\\rm old}^2$ (to be clear, for us this implies calculating a series of 580 integrals and comparing each with the observed values) </font>\n",
        "* <font color=\"deepskyblue\"> Propose new parameters $\\theta_{\\rm prop}$ and calculate the corresponding chi squared $\\chi_{\\rm prop}^2$</font>\n",
        "* <font color=\"deepskyblue\"> Draw a random number $r \\in [0,1]$</font>\n",
        "* <font color=\"deepskyblue\"> Accept the step if \n",
        "$$\n",
        "r < \\exp\\left(\\frac{\\chi_{\\rm old}^2 - \\chi_{\\rm prop}^2}{2}\\right) \\frac{P(\\theta)_{\\rm prop}}{P(\\theta)_{\\rm old}}\n",
        "$$</font>\n",
        "    * <font color=\"deepskyblue\"> If accepted, update $\\theta_{\\rm old} = \\theta_{\\rm prop}$, and record; otherwise, $\\theta_{\\rm new} = \\theta_{\\rm old}$ (no re-recording)</font>\n",
        "    * <font color=\"deepskyblue\">If you want, you can keep a record of the best fit (lowest $\\chi^2$), but this is not the specific purpose of MCMC! We are exploring the parameter space and sampling a _posterior distribution_, not just finding the best fit</font>\n",
        "* <font color=\"deepskyblue\"> Repeat</font>"
      ]
    },
    {
      "cell_type": "code",
      "source": [
        "def chi_2(h, omega_m, omega_L):\n",
        "  for i in range(580):\n",
        "    chi2 = round(sum([(mu(zs[i], h, omega_m, omega_L) - distance_modulus[i])**2 / error_distance_modulus[i]**2]), ndigits = 3)\n",
        "  return chi2\n"
      ],
      "metadata": {
        "id": "uvdi123XAqC-"
      },
      "execution_count": 12,
      "outputs": []
    },
    {
      "cell_type": "code",
      "source": [
        "from random import gauss\n",
        "import random"
      ],
      "metadata": {
        "id": "ejHAg1YqJ-2r"
      },
      "execution_count": 13,
      "outputs": []
    },
    {
      "cell_type": "code",
      "metadata": {
        "scrolled": true,
        "id": "xvF9UhsMXccR",
        "colab": {
          "base_uri": "https://localhost:8080/"
        },
        "outputId": "3999e2a3-0050-4d07-f6fe-2f5140967dc5"
      },
      "source": [
        "filename = \"MC_Chain_SNIa.txt\" # Or choose your favourite filename, obviously\n",
        "file = open(filename,\"w\")\n",
        "\n",
        "N_steps = 500\n",
        "step = 0\n",
        "param_list = np.empty((0,5))\n",
        "\n",
        "print('Format: h, Omega_m , Omega_L')\n",
        "\n",
        "# Start from some very bad values, to show that the MCMC works anyway!\n",
        "omega_m_old = 0.0 # \n",
        "omega_L_old = 0.0\n",
        "h_old = 0.1\n",
        "\n",
        "parameters_old = (h_old, omega_m_old, omega_L_old)\n",
        "\n",
        "# PUT YOUR MCMC CODE HERE!\n",
        "for i in range(N_steps):\n",
        "\n",
        "  #chi squared value of the current parameters set\n",
        "  chi_old = chi_2(h_old, omega_m_old, omega_L_old)\n",
        "\n",
        "  #recommendation : use stdev ~ 1/100 * \"real value\"\n",
        "\n",
        "  omega_m_new = abs(gauss(omega_m_old, 0.003)) #omega_m needs to be >0 always\n",
        "  omega_L_new = gauss(omega_L_old, 0.007)\n",
        "  h_new = gauss(h_old, 0.006)\n",
        "\n",
        "  parameters_new = (h_new, omega_m_new, omega_L_new)\n",
        "\n",
        "  # print('omega_m_new' , omega_m_new)\n",
        "  # print('omega_L_new', omega_L_new)\n",
        "  # print('h_new', h_new)\n",
        "\n",
        "  chi_new = chi_2(h_new, omega_m_new, omega_L_new)\n",
        "\n",
        "  #Draw a random number  r∈[0,1]\n",
        "  r = np.random.random()\n",
        "  function = np.exp((chi_old-chi_new)/2)*1 #using flat priors. Hence, can be ignored as would correspond to mutliplying by one\n",
        "\n",
        "  # print('r', r)\n",
        "  # print('function', function)\n",
        "\n",
        "  #updating parameters\n",
        "  if r < function: \n",
        "    print('Step' , i, 'at values: ', parameters_new, 'with chi² = ', chi_new)\n",
        "\n",
        "    param = np.array([[i, h_new, omega_m_new, omega_L_new, chi_new]])\n",
        "    param_list = np.append(param_list, param, axis = 0)\n",
        "\n",
        "    step += 1\n",
        "\n",
        "  #update parameters\n",
        "    parameters_old = parameters_new\n",
        "    # omega_m_old = omega_m_new \n",
        "    # omega_L_old = omega_L_new\n",
        "    # h_old = h_new\n",
        "    \n",
        "  \n",
        "  # print(param_list)\n",
        "\n",
        "file.close();"
      ],
      "execution_count": 14,
      "outputs": [
        {
          "output_type": "stream",
          "name": "stdout",
          "text": [
            "Format: h, Omega_m , Omega_L\n",
            "Step 0 at values:  (0.10325415937402431, 0.0017145778643134573, 0.014355510053056162) with chi² =  932.65\n",
            "Step 1 at values:  (0.1014213874770593, 0.0006749594606515632, -0.02179692653342291) with chi² =  925.084\n",
            "Step 3 at values:  (0.10414835374584819, 0.002318873439857673, -0.015170496144437546) with chi² =  914.662\n",
            "Step 6 at values:  (0.10098197735192059, 0.0011913901821367608, 0.0055443607995963986) with chi² =  940.401\n",
            "Step 10 at values:  (0.10127673419501863, 0.00010569100764866667, 0.01125453755011512) with chi² =  940.761\n",
            "Step 12 at values:  (0.10329923782156444, 0.0009148573501327376, -0.00646953809838088) with chi² =  922.188\n",
            "Step 14 at values:  (0.1028596908044739, 0.0023512783558915173, 0.004047895839281924) with chi² =  930.329\n",
            "Step 16 at values:  (0.10800462968163925, 0.0025718152831985027, 0.003565431559634207) with chi² =  903.663\n",
            "Step 17 at values:  (0.10456628954127181, 0.0007628706303213214, -0.006698574526570814) with chi² =  915.338\n",
            "Step 19 at values:  (0.1071659184360322, 0.002302120366953734, 0.0028529896814698196) with chi² =  907.38\n",
            "Step 24 at values:  (0.10330607597728808, 0.00683656465853828, 0.004527671734888231) with chi² =  931.136\n",
            "Step 27 at values:  (0.10656305694126543, 0.0014780790397145862, 0.012444556465522595) with chi² =  914.353\n",
            "Step 33 at values:  (0.10154330680454739, 0.0008263024190880405, -0.002851054846103974) with chi² =  933.192\n",
            "Step 45 at values:  (0.10848582799230426, 0.0017836824655657769, -0.004019837418012907) with chi² =  897.287\n",
            "Step 46 at values:  (0.10024914735467205, 0.00033040174864541505, 0.00544803535708528) with chi² =  943.807\n",
            "Step 47 at values:  (0.10240509656857463, 0.002039885283419595, 0.007744975799478772) with chi² =  934.289\n",
            "Step 51 at values:  (0.10917389357014429, 0.0027201654014723004, 0.010896001451426588) with chi² =  901.326\n",
            "Step 53 at values:  (0.10807562841815889, 0.0038681023495289483, 0.005354197489383185) with chi² =  904.975\n",
            "Step 57 at values:  (0.10260168657214104, 0.001757966804546368, 0.0003051560655373082) with chi² =  929.574\n",
            "Step 59 at values:  (0.10395310245057622, 0.003020392138896098, -0.004667193062454073) with chi² =  920.937\n",
            "Step 60 at values:  (0.10239889224264107, 0.00010258932983085674, -0.007285957197279111) with chi² =  926.074\n",
            "Step 61 at values:  (0.10421369410530898, 0.0002810012362376866, 0.007587934549848791) with chi² =  923.458\n",
            "Step 63 at values:  (0.10037961103004239, 0.004213919561991695, -0.001751473936216988) with chi² =  942.279\n",
            "Step 64 at values:  (0.10069045244388718, 0.0002944693450254066, -0.0007132771473993423) with chi² =  938.478\n",
            "Step 66 at values:  (0.10299425726079765, 0.0010130974680463967, -0.0034269075747683625) with chi² =  925.268\n",
            "Step 67 at values:  (0.10764847257234196, 0.0015971920608232992, -0.009104179330746585) with chi² =  899.041\n",
            "Step 68 at values:  (0.10741207534823162, 0.0020605348195717036, 0.00778432298724129) with chi² =  908.257\n",
            "Step 69 at values:  (0.10323081314604404, 0.00034892468333904124, -0.0033825083222591918) with chi² =  923.602\n",
            "Step 70 at values:  (0.10278968227961195, 0.002545716054446911, -0.008334021156665653) with chi² =  925.093\n",
            "Step 73 at values:  (0.10081948014967006, 0.001552829498282846, 0.0022441747927342123) with chi² =  939.981\n",
            "Step 74 at values:  (0.10703277409995145, 0.0032316642962217325, -0.007996521326754298) with chi² =  903.687\n",
            "Step 75 at values:  (0.10509174795387399, 0.0026348706924860564, -0.008890606381509073) with chi² =  912.818\n",
            "Step 76 at values:  (0.1011908832158122, 0.0018217220270296092, -0.0008348248531218169) with chi² =  936.694\n",
            "Step 77 at values:  (0.10032606268913914, 0.0029615700339599583, -0.00020710168313345842) with chi² =  942.47\n",
            "Step 79 at values:  (0.10100335799641638, 0.0011275635745065095, -0.003284931637369661) with chi² =  936.12\n",
            "Step 83 at values:  (0.1095204286764496, 0.0010206766936767654, 0.007205570778665574) with chi² =  896.81\n",
            "Step 84 at values:  (0.10679660124731828, 0.005267151057204949, -0.010422859340925296) with chi² =  905.085\n",
            "Step 86 at values:  (0.10200509030854148, 0.007024115224914149, -0.008688717852022082) with chi² =  932.045\n",
            "Step 87 at values:  (0.10796795578248801, 0.0019477036844159075, -0.010655232191886778) with chi² =  896.966\n",
            "Step 89 at values:  (0.10759244618527519, 0.001974273499263852, -0.00552268263113779) with chi² =  901.187\n",
            "Step 90 at values:  (0.10325079797150519, 0.00041168567072815613, -0.004871329656207447) with chi² =  922.852\n",
            "Step 91 at values:  (0.10197484875643732, 0.0008538936783771322, 0.004234173777719072) with chi² =  934.176\n",
            "Step 92 at values:  (0.1067675246552781, 0.0007060112214099134, 0.005313185185670299) with chi² =  909.497\n",
            "Step 95 at values:  (0.10539690181904862, 0.00016928784391576285, 0.00037856853395314) with chi² =  913.893\n",
            "Step 98 at values:  (0.10142957652521731, 0.004503066379564694, -0.00020343004437242115) with chi² =  937.456\n",
            "Step 99 at values:  (0.10509935309840059, 0.002291937500902054, -0.004344403491928914) with chi² =  914.637\n",
            "Step 100 at values:  (0.10384522663341164, 0.0016245447519782784, 0.0010872183605536306) with chi² =  923.254\n",
            "Step 102 at values:  (0.10093007302650955, 0.0037097873997330175, -0.005235219673492816) with chi² =  937.306\n",
            "Step 110 at values:  (0.1127752667668932, 0.0006662461310520347, 0.014273460117632702) with chi² =  884.108\n",
            "Step 112 at values:  (0.10525571232348416, 0.0027818272921440574, -0.007106537094952093) with chi² =  912.88\n",
            "Step 118 at values:  (0.10091926614088673, 0.0006993441274893369, -0.00483782103960195) with chi² =  935.579\n",
            "Step 119 at values:  (0.10258576793545537, 0.0026749030603376678, -0.006934364713198689) with chi² =  926.908\n",
            "Step 122 at values:  (0.10706225545870093, 0.0008251955106326671, 0.010404443902524926) with chi² =  910.435\n",
            "Step 124 at values:  (0.10767388101658561, 0.001560670891001512, -0.0026080541902486344) with chi² =  901.84\n",
            "Step 126 at values:  (0.10193762855308353, 0.002156705334118297, -0.0037827847915063734) with chi² =  931.502\n",
            "Step 128 at values:  (0.10950957867988725, 0.0005885149974173756, -0.0012072213506582217) with chi² =  892.744\n",
            "Step 129 at values:  (0.10126610322114867, 0.001061617403007295, 0.007173020472310631) with chi² =  939.531\n",
            "Step 130 at values:  (0.11241452589063124, 0.0007305050173694521, -0.0054505931992661705) with chi² =  876.912\n",
            "Step 132 at values:  (0.10299546635502074, 0.0030099820828242588, 0.0016613134532256454) with chi² =  928.926\n",
            "Step 133 at values:  (0.1082720058270148, 0.000103649986975353, -0.00236259650813405) with chi² =  898.026\n",
            "Step 134 at values:  (0.10522120114782481, 0.00034879175620928653, 0.004703240744609779) with chi² =  916.913\n",
            "Step 136 at values:  (0.10206435518442002, 0.00026201545473060966, -0.002475196666384694) with chi² =  930.187\n",
            "Step 138 at values:  (0.1101591426521872, 0.002913874586027783, 0.008319183244890449) with chi² =  895.417\n",
            "Step 139 at values:  (0.1101459680534151, 0.0007801397963675664, 0.0030159077723077676) with chi² =  891.674\n",
            "Step 140 at values:  (0.10620388928122257, 0.000916860398627388, -0.000267806825911336) with chi² =  909.937\n",
            "Step 143 at values:  (0.10118510117231282, 0.00039038532318502256, 0.002825910775572422) with chi² =  937.491\n",
            "Step 144 at values:  (0.1035618162284557, 0.0023940947653575267, -0.0029785850144995922) with chi² =  923.369\n",
            "Step 153 at values:  (0.10059067951559039, 0.00022644288591087692, 0.0062130140023824235) with chi² =  942.219\n",
            "Step 156 at values:  (0.10365976525279066, 0.0031658420124027194, -0.014230359461427753) with chi² =  918.193\n",
            "Step 157 at values:  (0.10338460206849641, 0.0009636663488781564, 0.003781723141909999) with chi² =  926.504\n",
            "Step 158 at values:  (0.10862830718784694, 0.0006867531222078608, -0.00843373341061203) with chi² =  893.882\n",
            "Step 160 at values:  (0.10631431504760842, 0.001969067155595286, 0.005274709500161273) with chi² =  912.611\n",
            "Step 161 at values:  (0.10812356462637751, 0.003499853218214424, 0.010688021018181074) with chi² =  906.968\n",
            "Step 162 at values:  (0.10261236836762072, 0.003401198065322105, -0.002446265324502781) with chi² =  929.315\n",
            "Step 163 at values:  (0.1034365053212493, 0.0024201011512834263, -0.007025764210620468) with chi² =  922.183\n",
            "Step 164 at values:  (0.10906084839719152, 0.0034450448674024936, -0.008381419231661882) with chi² =  893.527\n",
            "Step 165 at values:  (0.10161378650718844, 0.002081762180822738, -0.006421003893751409) with chi² =  931.979\n",
            "Step 167 at values:  (0.10198318116099113, 0.005415088777788603, 0.01270475370873828) with chi² =  941.154\n",
            "Step 169 at values:  (0.10279950890023666, 0.0016909025539111726, -0.0005605602386949814) with chi² =  928.072\n",
            "Step 172 at values:  (0.10112362100175366, 6.16318776255796e-05, 0.0017006130858582618) with chi² =  937.084\n",
            "Step 174 at values:  (0.09978755033590102, 0.002202456500357008, -0.005965055548746839) with chi² =  942.257\n",
            "Step 176 at values:  (0.09984145070936916, 0.002164937295623493, -0.003950441865232647) with chi² =  942.871\n",
            "Step 177 at values:  (0.10318631815812575, 0.00407191898954505, 0.01329445323074901) with chi² =  934.077\n",
            "Step 178 at values:  (0.10911376829523814, 0.008884606727763493, -0.021317410263792677) with chi² =  890.898\n",
            "Step 180 at values:  (0.10878908315191799, 0.0018913894997191138, 3.229283730676139e-05) with chi² =  897.697\n",
            "Step 182 at values:  (0.10135474401771763, 0.003309684640132544, 0.0026618230605023156) with chi² =  938.417\n",
            "Step 183 at values:  (0.1007356749487233, 0.002432444297001962, 0.008877112607033328) with chi² =  944.144\n",
            "Step 184 at values:  (0.10320332660374346, 0.0014492364882969404, -0.00638474404322432) with chi² =  923.081\n",
            "Step 186 at values:  (0.11649593825546543, 0.005147400550324542, 0.0029167787245506552) with chi² =  864.543\n",
            "Step 192 at values:  (0.10546647691970841, 0.006881139541309794, 0.006913510454504304) with chi² =  920.956\n",
            "Step 193 at values:  (0.10206398407988262, 0.005087954178407837, 0.005546943186296923) with chi² =  937.109\n",
            "Step 201 at values:  (0.1016252570566196, 0.00800257393315228, 0.0003282901696886524) with chi² =  938.954\n",
            "Step 202 at values:  (0.10021934280633807, 0.0035128670948161712, -0.002688935945647359) with chi² =  942.261\n",
            "Step 203 at values:  (0.10229808376298927, 0.0019754325473434003, -0.00017646763273737026) with chi² =  931.119\n",
            "Step 204 at values:  (0.1022963041173146, 0.0016710293409501926, -0.008734135170206898) with chi² =  926.975\n",
            "Step 207 at values:  (0.10197618710364062, 0.000884249962975632, -0.00949681435165113) with chi² =  927.832\n",
            "Step 210 at values:  (0.10022628401106261, 0.0010601172019250387, -0.0007966914325902812) with chi² =  941.491\n",
            "Step 213 at values:  (0.10141594769247958, 0.0046286150698403, -0.0003188503858597665) with chi² =  937.558\n",
            "Step 214 at values:  (0.10066482530605934, 0.005127222414791861, -0.011374501721963344) with chi² =  936.836\n",
            "Step 215 at values:  (0.10467936559637442, 0.007084860570249408, 0.01562894240603093) with chi² =  929.306\n",
            "Step 216 at values:  (0.10335232769019004, 0.004358614763272029, -0.017898238750101367) with chi² =  918.911\n",
            "Step 217 at values:  (0.10648564472483464, 0.00413717066183647, 0.0033447195960491977) with chi² =  912.257\n",
            "Step 218 at values:  (0.10484845546213929, 0.0014668720024624178, -0.004168805109017962) with chi² =  915.484\n",
            "Step 220 at values:  (0.1078173183755481, 0.0034903263444341403, -0.009493743659290479) with chi² =  899.229\n",
            "Step 223 at values:  (0.10849171302994784, 0.0013735529857105135, 0.005769453845586823) with chi² =  901.469\n",
            "Step 224 at values:  (0.10795135527947555, 0.005180764336816552, 0.003039042783466147) with chi² =  905.381\n",
            "Step 225 at values:  (0.10915397957555503, 0.002815140302247444, -0.002109251370650496) with chi² =  895.511\n",
            "Step 227 at values:  (0.10727696177062912, 0.0036689011897802675, 0.007916279799887146) with chi² =  910.052\n",
            "Step 229 at values:  (0.10376506702808881, 0.0006769700514246102, 0.010268341545413572) with chi² =  927.332\n",
            "Step 230 at values:  (0.10811860915284625, 0.0032110042701904854, -0.009697432641481079) with chi² =  897.454\n",
            "Step 231 at values:  (0.10511314688950552, 0.004288873045881067, -0.006073071973697259) with chi² =  915.065\n",
            "Step 233 at values:  (0.1049973830785869, 0.002488812922291388, 0.004910442048181491) with chi² =  919.568\n",
            "Step 234 at values:  (0.10138705965112661, 0.000771743313280429, -0.0030041288905048582) with chi² =  933.932\n",
            "Step 235 at values:  (0.10623372656956658, 0.0023923817610990127, 0.013433076881038236) with chi² =  917.102\n",
            "Step 236 at values:  (0.10266396571534427, 0.004524397999473276, -0.008897354026975269) with chi² =  926.789\n",
            "Step 237 at values:  (0.09936813945338499, 0.003255350244946179, -0.006034163259205377) with chi² =  945.244\n",
            "Step 241 at values:  (0.10556399296027724, 0.0015564040816917308, -0.000190852812732646) with chi² =  913.67\n",
            "Step 242 at values:  (0.10525203523979278, 0.0007340341296618565, -0.0003897922607329958) with chi² =  914.654\n",
            "Step 243 at values:  (0.09990656364454283, 0.00370328279627179, -0.005171725646265765) with chi² =  942.953\n",
            "Step 244 at values:  (0.10961792602277218, 0.0017458062089481415, -0.0057760462100062155) with chi² =  890.883\n",
            "Step 245 at values:  (0.10479916423191414, 0.0015177945449857274, 0.00021953540110759877) with chi² =  917.792\n",
            "Step 246 at values:  (0.11256099493724106, 0.0034701989528736813, 0.003992155588537321) with chi² =  882.227\n",
            "Step 249 at values:  (0.1071904577568579, 0.00021599684432147367, 0.009499305970658893) with chi² =  908.968\n",
            "Step 251 at values:  (0.10471591296989502, 0.0013018826027636015, 0.01124179812100392) with chi² =  923.209\n",
            "Step 252 at values:  (0.09931145220053927, 6.284524882072417e-05, -0.00392890877819427) with chi² =  944.441\n",
            "Step 257 at values:  (0.10366057306278299, 0.003085202138466769, 0.0014618666352574422) with chi² =  925.356\n",
            "Step 259 at values:  (0.10094965765890858, 0.003682508468251241, 0.004874715145721132) with chi² =  941.913\n",
            "Step 265 at values:  (0.10421633314232755, 0.0008634992153500449, -0.0018319724078969639) with chi² =  919.461\n",
            "Step 266 at values:  (0.10320919309294815, 0.005594590650458585, -0.008425573304672092) with chi² =  924.803\n",
            "Step 268 at values:  (0.10346617070573548, 0.0022674696216927926, -0.0011559052864305434) with chi² =  924.634\n",
            "Step 270 at values:  (0.1016149442439295, 0.005330142724055535, 0.00937146641036775) with chi² =  941.509\n",
            "Step 271 at values:  (0.10958399484510356, 0.0007498945620781136, -0.010152087301532648) with chi² =  888.446\n",
            "Step 272 at values:  (0.10805499645812945, 0.001932563144187096, -0.006722509020742404) with chi² =  898.301\n",
            "Step 273 at values:  (0.10302768803997953, 0.0005946305872572359, 0.004183448283055399) with chi² =  928.343\n",
            "Step 275 at values:  (0.10697754617966408, 0.00017490316497904165, -0.0005203797005866284) with chi² =  905.408\n",
            "Step 276 at values:  (0.10669991217795084, 0.004908112250282145, -0.01278582646522415) with chi² =  904.271\n",
            "Step 279 at values:  (0.10280437307693223, 0.000877474886916172, 0.0017263194038477465) with chi² =  928.575\n",
            "Step 281 at values:  (0.10415597264252277, 0.00045654500959451094, 0.004000404165419122) with chi² =  922.208\n",
            "Step 283 at values:  (0.10802717609134749, 0.0020056046765028587, -0.0017755324599173286) with chi² =  900.737\n",
            "Step 285 at values:  (0.10030085238445506, 0.0014311883092096823, -0.0007337859736197611) with chi² =  941.354\n",
            "Step 287 at values:  (0.10847791284037799, 0.001240217529486205, 0.006622410007212058) with chi² =  901.844\n",
            "Step 288 at values:  (0.1037901312883978, 0.0003153761507993159, 0.015565803686736478) with chi² =  929.45\n",
            "Step 289 at values:  (0.10079678782253286, 0.001291291595333959, -0.017819453562445953) with chi² =  930.67\n",
            "Step 290 at values:  (0.10731303486371621, 0.0012608890388048147, -0.004424600658130531) with chi² =  902.633\n",
            "Step 291 at values:  (0.10110574382021094, 0.0016857424257439562, 0.010329148134679344) with chi² =  942.308\n",
            "Step 292 at values:  (0.10377831127400203, 0.005494525483580646, 0.012168584273316603) with chi² =  931.348\n",
            "Step 293 at values:  (0.10429444589676456, 0.0005206223141996331, 0.000691059581087876) with chi² =  919.993\n",
            "Step 296 at values:  (0.10439591729574324, 0.0006460845645159818, -0.005513110702949678) with chi² =  916.692\n",
            "Step 297 at values:  (0.10458502705022195, 0.003320571257812432, 0.0009364376212012202) with chi² =  920.415\n",
            "Step 298 at values:  (0.10278684297302278, 0.003597746558373031, 0.00024249097398320856) with chi² =  929.762\n",
            "Step 299 at values:  (0.10243722511097723, 0.001308267857784045, -0.008521852163280427) with chi² =  926.084\n",
            "Step 300 at values:  (0.10441883767487503, 0.000201597928732521, 0.0051099241851021715) with chi² =  921.179\n",
            "Step 302 at values:  (0.10161557488323811, 0.0033084650424430057, 0.007866772616923564) with chi² =  939.448\n",
            "Step 303 at values:  (0.10489525777714595, 0.0007744602223252539, 0.0058840670651731) with chi² =  919.429\n",
            "Step 306 at values:  (0.10209968537780274, 0.0038746410348863033, -0.009953972619723087) with chi² =  928.9\n",
            "Step 308 at values:  (0.10709997029238554, 0.0014901422965525831, -0.009952536652590348) with chi² =  901.346\n",
            "Step 309 at values:  (0.10344357174187943, 0.004761840302096313, 0.000433974506030204) with chi² =  927.124\n",
            "Step 311 at values:  (0.10061530168637352, 0.0005335539506612071, 0.004329643362716898) with chi² =  941.403\n",
            "Step 313 at values:  (0.10094020701639345, 0.007341138265193202, 0.011870191122803202) with chi² =  947.729\n",
            "Step 319 at values:  (0.0996363671636953, 0.006982727434953118, -0.0028967587592791124) with chi² =  947.681\n",
            "Step 322 at values:  (0.11248289094385844, 0.0008153039162076878, -0.0014470037345292546) with chi² =  878.439\n",
            "Step 324 at values:  (0.09971097952864436, 0.001305907247099951, -0.00960659057027289) with chi² =  940.406\n",
            "Step 325 at values:  (0.10443396527005586, 0.0031496250300526566, 0.010934190380396783) with chi² =  925.759\n",
            "Step 327 at values:  (0.1013149048272754, 0.003990689787284161, 0.0037340735595321525) with chi² =  939.588\n",
            "Step 328 at values:  (0.10601049266685526, 0.0007158755316895218, 0.00985777356818812) with chi² =  915.476\n",
            "Step 329 at values:  (0.10054474852474013, 0.0022863045716694126, 0.012883586982753917) with chi² =  946.997\n",
            "Step 330 at values:  (0.1030245206777995, 0.00017703060098109196, 0.013086908928697863) with chi² =  932.253\n",
            "Step 331 at values:  (0.10783405986809094, 0.005320180542924633, -0.000229793016129595) with chi² =  904.553\n",
            "Step 334 at values:  (0.10656331563784598, 0.0031593476192843667, 0.002969049397113091) with chi² =  911.05\n",
            "Step 338 at values:  (0.1006599026054675, 0.0003978676135776968, 0.005632287875818906) with chi² =  941.68\n",
            "Step 339 at values:  (0.10546997824135204, 0.0005365425625835016, -0.009317233356766342) with chi² =  909.324\n",
            "Step 343 at values:  (0.10324703217335648, 0.00017695292528834507, 0.000809473177069134) with chi² =  925.339\n",
            "Step 344 at values:  (0.10659796299344414, 0.0016727785541336571, -0.006753251713986681) with chi² =  905.454\n",
            "Step 346 at values:  (0.10876093828662536, 0.005252635562952132, 0.006115901456896493) with chi² =  902.809\n",
            "Step 350 at values:  (0.115861236668876, 0.00027284079313830205, 0.00588075548762696) with chi² =  865.674\n",
            "Step 351 at values:  (0.10177213622948655, 0.0023372303913768763, -0.005300446966991967) with chi² =  931.809\n",
            "Step 352 at values:  (0.10259239438929166, 0.007316212123148806, -0.005991734343977179) with chi² =  930.337\n",
            "Step 354 at values:  (0.10579814615730554, 0.0007903554937780877, 0.00878811872197753) with chi² =  916.118\n",
            "Step 355 at values:  (0.10873963636494222, 0.006899982976568963, -0.004180445852810868) with chi² =  899.243\n",
            "Step 358 at values:  (0.10146462239940097, 0.0007334087558451656, -0.009177132942932235) with chi² =  930.639\n",
            "Step 359 at values:  (0.10052107126436499, 0.001701859356730443, -0.0013641786995569692) with chi² =  940.028\n",
            "Step 361 at values:  (0.10165531238867526, 0.005059062092136086, 0.007582557857050935) with chi² =  940.262\n",
            "Step 362 at values:  (0.10354377819158009, 0.004471981068958271, -0.011294762679888982) with chi² =  920.987\n",
            "Step 363 at values:  (0.10980451486522165, 0.0014013005484749927, -0.0027855201340092352) with chi² =  891.103\n",
            "Step 364 at values:  (0.11010292915488248, 0.0016457745380664573, 0.0015189677283761246) with chi² =  891.758\n",
            "Step 365 at values:  (0.10227287234864822, 0.004919810957814934, 0.0012723512593055106) with chi² =  933.865\n",
            "Step 366 at values:  (0.10297888104523666, 3.248012371680213e-05, 0.0020577056817886403) with chi² =  927.246\n",
            "Step 367 at values:  (0.09974210696797663, 0.002703631654595911, -0.007871646274124754) with chi² =  941.951\n",
            "Step 370 at values:  (0.10263707663087274, 0.0031741149350698584, 0.01168178925112156) with chi² =  935.652\n",
            "Step 372 at values:  (0.10450115687825882, 0.0011512337505742967, 0.001465616123318094) with chi² =  919.682\n",
            "Step 373 at values:  (0.10364271044907591, 0.0022771406558770332, 0.01214085407165864) with chi² =  929.916\n",
            "Step 374 at values:  (0.10073386831613894, 0.0025449237527728715, -0.00589076336213813) with chi² =  937.31\n",
            "Step 375 at values:  (0.10525642351528067, 0.0028284170465735278, 0.002894593940774146) with chi² =  917.511\n",
            "Step 376 at values:  (0.1048504144932528, 0.00292478622818992, 0.011714752540870201) with chi² =  923.8\n",
            "Step 379 at values:  (0.10046845851551303, 0.005893819150130068, -0.008247966905958526) with chi² =  939.864\n",
            "Step 380 at values:  (0.10108983490353704, 0.0046901867750566515, 0.0030381711972434305) with chi² =  940.95\n",
            "Step 381 at values:  (0.10154103110146946, 0.0006853893714606013, 0.00971417650521343) with chi² =  938.983\n",
            "Step 382 at values:  (0.10242902519185437, 0.0025185688679359346, 0.00157443100744216) with chi² =  931.588\n",
            "Step 383 at values:  (0.10275366312992514, 0.005740675691771232, -0.000947357788949913) with chi² =  930.792\n",
            "Step 385 at values:  (0.10447859659995971, 0.004319379219846974, -0.0018469129960389957) with chi² =  920.333\n",
            "Step 386 at values:  (0.10058826328313132, 0.0028747996212441554, 0.0016238369413780305) with chi² =  941.83\n",
            "Step 387 at values:  (0.10379874277543291, 0.0016749806527349346, -0.005732719638956884) with chi² =  920.385\n",
            "Step 388 at values:  (0.11039742896703818, 0.0012596370123538426, -0.009271884570525663) with chi² =  885.202\n",
            "Step 390 at values:  (0.10011045070984054, 0.0029900622872711196, -0.006327904864261353) with chi² =  940.821\n",
            "Step 391 at values:  (0.11356511515106811, 0.0005584732576866567, 0.0016107111045930698) with chi² =  874.554\n",
            "Step 392 at values:  (0.10286255393283925, 0.0009456448394921179, -0.016813589269294205) with chi² =  919.804\n",
            "Step 393 at values:  (0.1025991237830542, 0.0024201751270041083, -0.0070712713487722815) with chi² =  926.608\n",
            "Step 395 at values:  (0.10253150624050479, 0.0018348580248639325, -0.007996657575939092) with chi² =  926.163\n",
            "Step 396 at values:  (0.10975458244834618, 3.152989489134816e-05, -0.0018076745425902718) with chi² =  890.914\n",
            "Step 397 at values:  (0.1040997614103223, 0.0003897689120689649, 0.006548367176793709) with chi² =  923.643\n",
            "Step 398 at values:  (0.11306215934259334, 0.00031614268948301365, 0.0024692654034960764) with chi² =  877.15\n",
            "Step 403 at values:  (0.10188396633804224, 0.0018966537577658348, -0.0006485540599785994) with chi² =  933.075\n",
            "Step 406 at values:  (0.10625309079250404, 0.0036082699628191273, -0.0008775007525004761) with chi² =  911.15\n",
            "Step 410 at values:  (0.10319553368800917, 0.0037183378461674976, -0.0011245681328445431) with chi² =  927.031\n",
            "Step 412 at values:  (0.10232422417507007, 0.002365618087078555, -0.008748796123961533) with chi² =  927.27\n",
            "Step 413 at values:  (0.10443033524412562, 0.0013079550407678435, 0.001540093971240056) with chi² =  920.188\n",
            "Step 415 at values:  (0.10256752943091228, 0.0037398614318268687, -0.009102421347930779) with chi² =  926.699\n",
            "Step 419 at values:  (0.1063306498087972, 0.004012859237663998, -0.01280825804789624) with chi² =  905.564\n",
            "Step 421 at values:  (0.10280840579856919, 0.0024162432438528253, 0.00589141797080008) with chi² =  931.508\n",
            "Step 422 at values:  (0.10247026164475534, 0.0034455732195272748, -0.0015049416631560614) with chi² =  930.542\n",
            "Step 423 at values:  (0.10469640888440346, 0.004926795590258353, 0.016884777542431277) with chi² =  928.375\n",
            "Step 424 at values:  (0.1072227880198219, 0.0024266814526768678, 0.0007392720837909428) with chi² =  906.201\n",
            "Step 427 at values:  (0.10442805622869722, 0.0023324873886079083, -0.0038801657877996156) with chi² =  918.366\n",
            "Step 429 at values:  (0.10772668677108023, 0.004524412273844823, -0.004332981109538209) with chi² =  902.696\n",
            "Step 431 at values:  (0.10104357878329946, 0.0024519392993870947, -0.0015040192026252574) with chi² =  937.598\n",
            "Step 432 at values:  (0.10556530704350571, 0.004083394277039398, -0.007213463135533612) with chi² =  912.076\n",
            "Step 433 at values:  (0.10542721337227287, 0.000601568931552591, -0.0010905345834570208) with chi² =  913.342\n",
            "Step 434 at values:  (0.1024487902937543, 0.0014880474572182567, 0.0022955622418936073) with chi² =  931.141\n",
            "Step 437 at values:  (0.1027898109539981, 0.0019641252722925467, 0.000506545204147999) with chi² =  928.798\n",
            "Step 440 at values:  (0.10691657416694389, 0.001016485871412219, -0.0036022407842415394) with chi² =  904.852\n",
            "Step 441 at values:  (0.10356179919197771, 0.003920889641581756, 0.0072476664705300505) with chi² =  929.131\n",
            "Step 442 at values:  (0.10442149011721784, 0.001695876871774952, -0.007112868455205184) with chi² =  916.505\n",
            "Step 443 at values:  (0.10516933182415551, 0.0008270666732662445, -0.005516706288348307) with chi² =  912.792\n",
            "Step 445 at values:  (0.10989274932499093, 0.003239300519454925, 0.004535419927575899) with chi² =  895.191\n",
            "Step 446 at values:  (0.10038916059499096, 4.6229925510822176e-05, -0.006410714191159987) with chi² =  937.324\n",
            "Step 448 at values:  (0.10326495461810083, 0.003077407098994017, 0.003753486136136316) with chi² =  928.513\n",
            "Step 449 at values:  (0.1097354090692335, 0.0018634635357814347, 0.00042926225689712914) with chi² =  893.198\n",
            "Step 450 at values:  (0.10804388973195267, 0.0009732853080928273, -0.0025596562678961853) with chi² =  899.632\n",
            "Step 451 at values:  (0.10882763012582725, 0.001867917901499261, -0.003888063280550473) with chi² =  895.707\n",
            "Step 452 at values:  (0.11433786053096819, 0.00020993696005059938, -0.002622623400687982) with chi² =  868.832\n",
            "Step 454 at values:  (0.11521074317035546, 0.005939959961282473, 0.002225748135009737) with chi² =  870.612\n",
            "Step 455 at values:  (0.11201178954189397, 0.0006875020738492467, -0.004745374124876434) with chi² =  879.114\n",
            "Step 456 at values:  (0.10227613596098202, 0.0002394429792478657, 0.012123933192376797) with chi² =  935.849\n",
            "Step 457 at values:  (0.1018477601273311, 0.002928225422367008, -0.004939166338080476) with chi² =  931.955\n",
            "Step 461 at values:  (0.10900417658611963, 0.004470378892268431, -0.0114670823027052) with chi² =  893.067\n",
            "Step 463 at values:  (0.1162990207210475, 0.00011731540492727775, -0.00800534218881703) with chi² =  857.396\n",
            "Step 464 at values:  (0.10790516718528097, 0.0030784756653595073, -0.0013389732902093349) with chi² =  902.238\n",
            "Step 465 at values:  (0.10729100006236272, 0.0024966263289305183, 0.00037972816867107485) with chi² =  905.737\n",
            "Step 467 at values:  (0.10641662200572373, 0.0016976516888497263, -0.005835603597547409) with chi² =  906.81\n",
            "Step 470 at values:  (0.1008155436584805, 0.0025810259269576164, 9.186611806473657e-05) with chi² =  939.673\n",
            "Step 471 at values:  (0.10215301149519944, 7.833326887908398e-05, -0.002868875287343481) with chi² =  929.409\n",
            "Step 472 at values:  (0.10275622670321999, 0.0002426489568333981, 0.009315303890066774) with chi² =  931.957\n",
            "Step 478 at values:  (0.10785944683397646, 0.0016811386403656025, 0.009977469211795868) with chi² =  906.774\n",
            "Step 480 at values:  (0.10536491056161609, 0.0032525169491084156, 0.004972461761163431) with chi² =  918.192\n",
            "Step 483 at values:  (0.10378909220020968, 0.001919455150699594, -0.006074220472764699) with chi² =  920.438\n",
            "Step 487 at values:  (0.10691923955984078, 0.0015350519281268733, -0.0009274725679523175) with chi² =  906.395\n",
            "Step 490 at values:  (0.10983367338902006, 0.0021885922464203377, -0.013197818121360257) with chi² =  886.773\n",
            "Step 492 at values:  (0.10282029500958972, 0.004166535012854313, -0.007482747150746564) with chi² =  926.375\n",
            "Step 493 at values:  (0.10420333086708554, 0.002413068271311776, 0.011163496508052598) with chi² =  926.59\n",
            "Step 496 at values:  (0.10106657136587677, 0.0012092520010980527, -0.0062596177097334685) with chi² =  934.452\n",
            "Step 498 at values:  (0.10236946326535327, 0.00265224763956809, -0.007247095252763502) with chi² =  927.905\n"
          ]
        }
      ]
    },
    {
      "cell_type": "markdown",
      "metadata": {
        "id": "qw52S4G0XccR"
      },
      "source": [
        "After completion of the programme, your MC chain will (*hopefully*) look something like this:\n",
        "\n",
        "`#Omega_m  Omega_L  h`\n",
        "\n",
        "`0.297     0.703    0.698`\n",
        "\n",
        "`0.285     0.715    0.701`\n",
        "\n",
        "`0.288     0.712    0.699`\n",
        "\n",
        "`...`"
      ]
    },
    {
      "cell_type": "markdown",
      "metadata": {
        "id": "dB-wD3cLXccR"
      },
      "source": [
        "## <font color='deepskyblue'>Plotting: GetDist</font>\n",
        "\n",
        "We will do the plots with [`GetDist`](https://getdist.readthedocs.io/en/latest/plot_gallery.html).\n",
        "\n",
        "The plot gallery contains a lot of useful examples, you should be able to read them fairly easily and see which applies to your situation. Look for both (triangle) plots and for parameter estimation.\n",
        "\n",
        "Note that many `GetDist` functions require arguments of type `MCSamples`; make sure you convert your lists accordingly.\n",
        "\n",
        "<font color='deepskyblue'>\n",
        "Look at your results. Do you obtain $\\Omega_\\Lambda \\neq 0$? To a high degree of significance? \n",
        "\n",
        "If yes, then my dear friend, you have **DISCOVERED THE ACCELERATED EXPANSION OF THE UNIVERSE AND WON THE NOBEL PRIZE IN PHYSICS 2011!**\n",
        "</font>"
      ]
    },
    {
      "cell_type": "code",
      "metadata": {
        "id": "4JIvURq9XccR",
        "colab": {
          "base_uri": "https://localhost:8080/",
          "height": 997
        },
        "outputId": "9f533fe1-157c-4163-ac61-7e24ac65f679"
      },
      "source": [
        "# # These are just randomly generated values. YOU WILL HAVE TO USE THE RESULTS OF YOUR MCMC CHAIN!\n",
        "# h, OmegaM, OmegaL = np.random.normal(0.7, 0.03, N_steps), np.random.normal(0.3, 0.1, N_steps), np.random.normal(0.7, 0.1, N_steps)\n",
        "# Omegak = 1. - OmegaM - OmegaL\n",
        "\n",
        "# Here let's just define variable names, labels, and so on\n",
        "my_labels = [r'h', r'\\Omega_m', r'\\Omega_\\lambda']\n",
        "my_names = ['h', 'Omega_m', 'Omega_lambda']\n",
        "my_dim = 3 # The number of variables we're plotting\n",
        "\n",
        "my_samples = np.array([param_list]) # This creates a higher-dimensional array with all our data,\n",
        "my_samples = np.transpose(np.reshape(my_samples,(my_dim,int(my_samples.size/my_dim)))) # and this reshapes it in a convenient form...\n",
        "samples1 = MCSamples(samples = my_samples, labels = my_labels, names = my_names) # ... to create an \"MCSamples\" data type, which GetDist can use\n",
        "\n",
        "conf_level = 0.6827 # The usual 1-sigma confidence level. You can change to 2- or 3-sigma if you want\n",
        "\n",
        "# Let's print a table with the 1D posteriors (confidence levels)\n",
        "for nam in my_names:\n",
        "    print(round(samples1.confidence(nam,(1.-conf_level)/2.,upper=False),2), \\\n",
        "          \" < \", nam , \" < \", round(samples1.confidence(nam,(1.-conf_level)/2.,upper=True),2),\\\n",
        "          \" at \" , int(100*conf_level),\"\\b% CL\")\n",
        "print(\"\\n\\n\")\n",
        "\n",
        "#Triangle corner plot\n",
        "j = plots.getSubplotPlotter(subplot_size=3)\n",
        "j.settings.axes_labelsize = 22\n",
        "j.settings.axes_fontsize = 16\n",
        "j.triangle_plot(samples1, filled = True, title_limit=1)"
      ],
      "execution_count": 15,
      "outputs": [
        {
          "output_type": "stream",
          "name": "stdout",
          "text": [
            "Removed no burn in\n",
            "0.0  <  h  <  903.66  at  68 \b% CL\n",
            "0.0  <  Omega_m  <  905.38  at  68 \b% CL\n",
            "0.0  <  Omega_lambda  <  899.63  at  68 \b% CL\n",
            "\n",
            "\n",
            "\n"
          ]
        },
        {
          "output_type": "stream",
          "name": "stderr",
          "text": [
            "WARNING:root:auto bandwidth for h very small or failed (h=0.00016910363623499943,N_eff=435.0). Using fallback (h=1.1452749293674944e-05)\n",
            "WARNING:root:fine_bins not large enough to well sample smoothing scale - h\n",
            "WARNING:root:auto bandwidth for h very small or failed (h=0.00016910363623499943,N_eff=435.0). Using fallback (h=1.1452749293674944e-05)\n",
            "WARNING:root:fine_bins not large enough to well sample smoothing scale - h\n",
            "WARNING:root:auto bandwidth for Omega_m very small or failed (h=0.00016915259654437723,N_eff=435.0). Using fallback (h=1.060507544161016e-05)\n",
            "WARNING:root:fine_bins not large enough to well sample smoothing scale - Omega_m\n",
            "WARNING:root:auto bandwidth for Omega_lambda very small or failed (h=0.00016910324797079427,N_eff=435.0). Using fallback (h=1.0724612733159092e-05)\n",
            "WARNING:root:fine_bins not large enough to well sample smoothing scale - Omega_lambda\n",
            "WARNING:root:auto bandwidth for Omega_m very small or failed (h=0.00016915259654437723,N_eff=435.0). Using fallback (h=1.060507544161016e-05)\n",
            "WARNING:root:fine_bins not large enough to well sample smoothing scale - Omega_m\n",
            "WARNING:root:auto bandwidth for Omega_lambda very small or failed (h=0.00016910324797079427,N_eff=435.0). Using fallback (h=1.0724612733159092e-05)\n",
            "WARNING:root:fine_bins not large enough to well sample smoothing scale - Omega_lambda\n",
            "WARNING:root:fine_bins_2D not large enough for optimal density: h, Omega_m\n",
            "WARNING:root:fine_bins_2D not large enough for optimal density: h, Omega_lambda\n",
            "WARNING:root:fine_bins_2D not large enough for optimal density: Omega_m, Omega_lambda\n"
          ]
        },
        {
          "output_type": "display_data",
          "data": {
            "image/png": "[encoded data removed]",
            "text/plain": [
              "<Figure size 648x648 with 6 Axes>"
            ]
          },
          "metadata": {
            "needs_background": "light"
          }
        }
      ]
    },
    {
      "cell_type": "code",
      "source": [
        "#the graph is definitely not great..."
      ],
      "metadata": {
        "id": "Ytf-7x8w1j9_"
      },
      "execution_count": 16,
      "outputs": []
    },
    {
      "cell_type": "markdown",
      "source": [
        "## <font color='deepskyblue'>Further Improvements</font>\n",
        "\n",
        "There are many ways in which you can improve your code and/or your data visualisation. Some ideas, in random order:\n",
        "\n",
        "* Modify your priors and compare your results. For instance:\n",
        "  * Change to log-flat priors for $h$ and/or $\\Omega_m$, namely displace them in log-space instead of linear space:\n",
        "  $$\n",
        "  \\log(h_{\\rm new}) = \\log(h_{\\rm old}) + \\delta\n",
        "  $$\n",
        "  where $\\delta$ a random variable of mean 0\n",
        "  * Use priors from other cosmological probes, for example the [Planck 2018 results](https://arxiv.org/abs/1807.06209):\n",
        "  $$\n",
        "  \\Omega_m = 0.315 \\pm 0.007\\,,~\\dots\n",
        "  $$\n",
        "* Implement a Gelman-Rubin (or alternative) convergence test\n",
        "* Change colours and other properties of your triangle plot\n",
        "* Re-plot the data with your theoretical fits: you can try both your best fit, and some $1\\sigma$ \"error bars\"\n",
        "* Split your data in redshift bins and repeat the analysis for each bin individually.\n",
        "<br> _(What do you notice? Which redshift bins give us the most accurate detection of the cosmological parameters?)_"
      ],
      "metadata": {
        "id": "OAer6k-yngup"
      }
    }
  ]
}